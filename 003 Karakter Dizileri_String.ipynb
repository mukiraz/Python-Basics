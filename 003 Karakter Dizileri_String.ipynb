{
 "cells": [
  {
   "cell_type": "markdown",
   "id": "hindu-milton",
   "metadata": {},
   "source": [
    "# Karakter Dizileri (Stringler)"
   ]
  },
  {
   "cell_type": "markdown",
   "id": "practical-while",
   "metadata": {},
   "source": [
    "Türkçe isimleri ile karakter dizileri veya stringler bizim gerçek hayatta kullandığımız **yazıların** aynısıdır. Aslında string ifadeler birer karakter dizileridir. Örneğin bu cümle karakret dizilerinden oluşmaktadır."
   ]
  },
  {
   "cell_type": "markdown",
   "id": "still-pioneer",
   "metadata": {},
   "source": [
    "### String Oluşturma"
   ]
  },
  {
   "cell_type": "markdown",
   "id": "architectural-postage",
   "metadata": {},
   "source": [
    "Stringleri bizler \"\"(tırnak) işaretleri ile oluştururuz."
   ]
  },
  {
   "cell_type": "code",
   "execution_count": 1,
   "id": "rolled-edwards",
   "metadata": {},
   "outputs": [
    {
     "data": {
      "text/plain": [
       "'Murat Uğur KİRAZ'"
      ]
     },
     "execution_count": 1,
     "metadata": {},
     "output_type": "execute_result"
    }
   ],
   "source": [
    "\"Murat Uğur KİRAZ\""
   ]
  },
  {
   "cell_type": "code",
   "execution_count": 2,
   "id": "higher-dynamics",
   "metadata": {},
   "outputs": [
    {
     "data": {
      "text/plain": [
       "'Murat Uğur KİRAZ'"
      ]
     },
     "execution_count": 2,
     "metadata": {},
     "output_type": "execute_result"
    }
   ],
   "source": [
    "'Murat Uğur KİRAZ'"
   ]
  },
  {
   "cell_type": "code",
   "execution_count": 3,
   "id": "excellent-coupon",
   "metadata": {},
   "outputs": [
    {
     "data": {
      "text/plain": [
       "'Murat Uğur KİRAZ'"
      ]
     },
     "execution_count": 3,
     "metadata": {},
     "output_type": "execute_result"
    }
   ],
   "source": [
    "\"\"\"Murat Uğur KİRAZ\"\"\""
   ]
  },
  {
   "cell_type": "code",
   "execution_count": 2,
   "id": "exciting-senegal",
   "metadata": {},
   "outputs": [
    {
     "data": {
      "text/plain": [
       "'bu bir stringdir'"
      ]
     },
     "execution_count": 2,
     "metadata": {},
     "output_type": "execute_result"
    }
   ],
   "source": [
    "\"bu bir stringdir\""
   ]
  },
  {
   "cell_type": "markdown",
   "id": "economic-commissioner",
   "metadata": {},
   "source": [
    "Not: Eğer çift tırnak ile başlamışsak mutlaka çift tırnak ile, tek tırnakla başlamışsak mutlaka tek tırnakla kapatıp stringi tanımlamalıyız."
   ]
  },
  {
   "cell_type": "code",
   "execution_count": 4,
   "id": "leading-exhibit",
   "metadata": {},
   "outputs": [
    {
     "ename": "SyntaxError",
     "evalue": "EOL while scanning string literal (<ipython-input-4-b24639593431>, line 1)",
     "output_type": "error",
     "traceback": [
      "\u001b[1;36m  File \u001b[1;32m\"<ipython-input-4-b24639593431>\"\u001b[1;36m, line \u001b[1;32m1\u001b[0m\n\u001b[1;33m    \"Murat'\u001b[0m\n\u001b[1;37m           ^\u001b[0m\n\u001b[1;31mSyntaxError\u001b[0m\u001b[1;31m:\u001b[0m EOL while scanning string literal\n"
     ]
    }
   ],
   "source": [
    "\"Murat'"
   ]
  },
  {
   "cell_type": "code",
   "execution_count": 6,
   "id": "maritime-commerce",
   "metadata": {},
   "outputs": [
    {
     "data": {
      "text/plain": [
       "'Murat'"
      ]
     },
     "execution_count": 6,
     "metadata": {},
     "output_type": "execute_result"
    }
   ],
   "source": [
    "\"Murat\""
   ]
  },
  {
   "cell_type": "code",
   "execution_count": 7,
   "id": "dirty-tuner",
   "metadata": {},
   "outputs": [
    {
     "ename": "SyntaxError",
     "evalue": "invalid syntax (<ipython-input-7-d7e345f352e0>, line 1)",
     "output_type": "error",
     "traceback": [
      "\u001b[1;36m  File \u001b[1;32m\"<ipython-input-7-d7e345f352e0>\"\u001b[1;36m, line \u001b[1;32m1\u001b[0m\n\u001b[1;33m    \"Dün gece hiç tanımadığım bir erkeğe sırf sana benziyor diye usulca sokulup \"Merhaba\" dedim.\"\u001b[0m\n\u001b[1;37m                                                                                 ^\u001b[0m\n\u001b[1;31mSyntaxError\u001b[0m\u001b[1;31m:\u001b[0m invalid syntax\n"
     ]
    }
   ],
   "source": [
    "\"Dün gece hiç tanımadığım bir erkeğe sırf sana benziyor diye usulca sokulup \"Merhaba\" dedim.\""
   ]
  },
  {
   "cell_type": "code",
   "execution_count": 8,
   "id": "statutory-hampshire",
   "metadata": {},
   "outputs": [
    {
     "data": {
      "text/plain": [
       "\"Dün gece hiç tanımadığım bir erkeğe sırf sana benziyor diye usulca sokulup 'Merhaba' dedim.\""
      ]
     },
     "execution_count": 8,
     "metadata": {},
     "output_type": "execute_result"
    }
   ],
   "source": [
    "\"Dün gece hiç tanımadığım bir erkeğe sırf sana benziyor diye usulca sokulup 'Merhaba' dedim.\""
   ]
  },
  {
   "cell_type": "code",
   "execution_count": 9,
   "id": "liable-honduras",
   "metadata": {},
   "outputs": [
    {
     "data": {
      "text/plain": [
       "'Dün gece hiç tanımadığım bir erkeğe sırf sana benziyor diye usulca sokulup \"Merhaba\" dedim.'"
      ]
     },
     "execution_count": 9,
     "metadata": {},
     "output_type": "execute_result"
    }
   ],
   "source": [
    "'Dün gece hiç tanımadığım bir erkeğe sırf sana benziyor diye usulca sokulup \"Merhaba\" dedim.'"
   ]
  },
  {
   "cell_type": "code",
   "execution_count": 10,
   "id": "consistent-headline",
   "metadata": {},
   "outputs": [
    {
     "data": {
      "text/plain": [
       "'style=\"z-index:9999!important;position:relative\"'"
      ]
     },
     "execution_count": 10,
     "metadata": {},
     "output_type": "execute_result"
    }
   ],
   "source": [
    "'style=\"z-index:9999!important;position:relative\"'"
   ]
  },
  {
   "cell_type": "code",
   "execution_count": 11,
   "id": "extraordinary-emperor",
   "metadata": {},
   "outputs": [
    {
     "ename": "SyntaxError",
     "evalue": "invalid syntax (<ipython-input-11-f50b106c74e6>, line 1)",
     "output_type": "error",
     "traceback": [
      "\u001b[1;36m  File \u001b[1;32m\"<ipython-input-11-f50b106c74e6>\"\u001b[1;36m, line \u001b[1;32m1\u001b[0m\n\u001b[1;33m    'Murat'ın bugün dersi var.'\u001b[0m\n\u001b[1;37m           ^\u001b[0m\n\u001b[1;31mSyntaxError\u001b[0m\u001b[1;31m:\u001b[0m invalid syntax\n"
     ]
    }
   ],
   "source": [
    "'Murat'ın bugün dersi var.'"
   ]
  },
  {
   "cell_type": "code",
   "execution_count": 1,
   "id": "olive-circuit",
   "metadata": {},
   "outputs": [
    {
     "data": {
      "text/plain": [
       "\"Murat'ın bugün dersi var.\""
      ]
     },
     "execution_count": 1,
     "metadata": {},
     "output_type": "execute_result"
    }
   ],
   "source": [
    "\"Murat'ın bugün dersi var.\""
   ]
  },
  {
   "cell_type": "markdown",
   "id": "suburban-commons",
   "metadata": {},
   "source": [
    "### String ifadelerini değişkenlere atama "
   ]
  },
  {
   "cell_type": "markdown",
   "id": "checked-lexington",
   "metadata": {},
   "source": [
    "Değişkenler bir programlama dilinde olmazsa olmaz bir kavramdır. Değişkenler aslında bir veri tipinden değer tutan birimlerdir.Şimdi string veri tipinde ve adı \"string\"  olan bir değişken oluşturalım."
   ]
  },
  {
   "cell_type": "code",
   "execution_count": 13,
   "id": "forward-simulation",
   "metadata": {},
   "outputs": [],
   "source": [
    "string=\"Murat Uğur KİRAZ\""
   ]
  },
  {
   "cell_type": "markdown",
   "id": "coupled-laser",
   "metadata": {},
   "source": [
    "### String bir değişkenin n'inci karakterini öğrenmek"
   ]
  },
  {
   "cell_type": "markdown",
   "id": "revised-patent",
   "metadata": {},
   "source": [
    "String değişkenlerinin birer \"karakter dizgisi\" olduğunu söylemiştik. Biz [] operatörü ile dizinin n'inci elemanında hangi karakter var bunu öğrenebiliriz."
   ]
  },
  {
   "cell_type": "markdown",
   "id": "piano-programmer",
   "metadata": {},
   "source": [
    "**NOT:** dizilerde ilk elemanın indis numarası 0'dan başlar."
   ]
  },
  {
   "cell_type": "code",
   "execution_count": 14,
   "id": "certified-sphere",
   "metadata": {},
   "outputs": [
    {
     "data": {
      "text/plain": [
       "'M'"
      ]
     },
     "execution_count": 14,
     "metadata": {},
     "output_type": "execute_result"
    }
   ],
   "source": [
    "string[0]"
   ]
  },
  {
   "cell_type": "code",
   "execution_count": 15,
   "id": "surface-future",
   "metadata": {},
   "outputs": [
    {
     "data": {
      "text/plain": [
       "'u'"
      ]
     },
     "execution_count": 15,
     "metadata": {},
     "output_type": "execute_result"
    }
   ],
   "source": [
    "string[1]"
   ]
  },
  {
   "cell_type": "markdown",
   "id": "visible-pride",
   "metadata": {},
   "source": [
    "Eğer biz en son karakteri istiyorsak indis sayısını -1 vermemiz gerekiyor."
   ]
  },
  {
   "cell_type": "code",
   "execution_count": 16,
   "id": "imposed-saskatchewan",
   "metadata": {},
   "outputs": [
    {
     "data": {
      "text/plain": [
       "'Z'"
      ]
     },
     "execution_count": 16,
     "metadata": {},
     "output_type": "execute_result"
    }
   ],
   "source": [
    "string[-1]"
   ]
  },
  {
   "cell_type": "markdown",
   "id": "incorporate-better",
   "metadata": {},
   "source": [
    "Ya da -4'üncü (sondan 4'üncü) elamana ulaşmak istersek de"
   ]
  },
  {
   "cell_type": "code",
   "execution_count": 17,
   "id": "republican-wright",
   "metadata": {},
   "outputs": [
    {
     "data": {
      "text/plain": [
       "'İ'"
      ]
     },
     "execution_count": 17,
     "metadata": {},
     "output_type": "execute_result"
    }
   ],
   "source": [
    "string[-4]\n"
   ]
  },
  {
   "cell_type": "code",
   "execution_count": 18,
   "id": "suspended-connectivity",
   "metadata": {},
   "outputs": [
    {
     "data": {
      "text/plain": [
       "'K'"
      ]
     },
     "execution_count": 18,
     "metadata": {},
     "output_type": "execute_result"
    }
   ],
   "source": [
    "string[-5]"
   ]
  },
  {
   "cell_type": "markdown",
   "id": "eight-bahrain",
   "metadata": {},
   "source": [
    "### String Parçalama"
   ]
  },
  {
   "cell_type": "markdown",
   "id": "small-bankruptcy",
   "metadata": {},
   "source": [
    "String bir değişkenin n'inci karakterini öğrenmek istiyorsak, değişken_adı[n] olduğunu öğrenmiştik. Belirli bir parşasını almak istiyorsak, benzer bir işlem uygulayabiliriz."
   ]
  },
  {
   "cell_type": "markdown",
   "id": "illegal-sauce",
   "metadata": {},
   "source": [
    "*[başlama indeksi : bitiş indeksi : atlama değeri]*"
   ]
  },
  {
   "cell_type": "markdown",
   "id": "deadly-relief",
   "metadata": {},
   "source": [
    "Örnek :3. indeksten başla 8.indekse kadar(dahil değil) al."
   ]
  },
  {
   "cell_type": "code",
   "execution_count": 19,
   "id": "brave-reset",
   "metadata": {},
   "outputs": [
    {
     "data": {
      "text/plain": [
       "'at Uğ'"
      ]
     },
     "execution_count": 19,
     "metadata": {},
     "output_type": "execute_result"
    }
   ],
   "source": [
    "string[3:8]"
   ]
  },
  {
   "cell_type": "markdown",
   "id": "silver-conversion",
   "metadata": {},
   "source": [
    "Başlangıç değeri belirtilmemişse en baştan başlayarak alır."
   ]
  },
  {
   "cell_type": "code",
   "execution_count": 20,
   "id": "universal-surrey",
   "metadata": {},
   "outputs": [
    {
     "data": {
      "text/plain": [
       "'Murat Uğ'"
      ]
     },
     "execution_count": 20,
     "metadata": {},
     "output_type": "execute_result"
    }
   ],
   "source": [
    "string[:8]"
   ]
  },
  {
   "cell_type": "markdown",
   "id": "prostate-tablet",
   "metadata": {},
   "source": [
    "Bitiş değeri belirtilmemişse en sonuna kadar alır."
   ]
  },
  {
   "cell_type": "code",
   "execution_count": 21,
   "id": "competent-activation",
   "metadata": {},
   "outputs": [
    {
     "data": {
      "text/plain": [
       "'at Uğur KİRAZ'"
      ]
     },
     "execution_count": 21,
     "metadata": {},
     "output_type": "execute_result"
    }
   ],
   "source": [
    "string[3:]"
   ]
  },
  {
   "cell_type": "markdown",
   "id": "japanese-asthma",
   "metadata": {},
   "source": [
    "İki değer de belirtilmemişse tüm stringi alır."
   ]
  },
  {
   "cell_type": "code",
   "execution_count": 22,
   "id": "committed-anatomy",
   "metadata": {},
   "outputs": [
    {
     "data": {
      "text/plain": [
       "'Murat Uğur KİRAZ'"
      ]
     },
     "execution_count": 22,
     "metadata": {},
     "output_type": "execute_result"
    }
   ],
   "source": [
    "string[:]"
   ]
  },
  {
   "cell_type": "markdown",
   "id": "english-charm",
   "metadata": {},
   "source": [
    "Baştan sona 2 değer atlaya atlaya stringi alma"
   ]
  },
  {
   "cell_type": "code",
   "execution_count": 23,
   "id": "colonial-freight",
   "metadata": {},
   "outputs": [
    {
     "data": {
      "text/plain": [
       "'MrtUu İA'"
      ]
     },
     "execution_count": 23,
     "metadata": {},
     "output_type": "execute_result"
    }
   ],
   "source": [
    "string[::2]"
   ]
  },
  {
   "cell_type": "markdown",
   "id": "split-medication",
   "metadata": {},
   "source": [
    "2.indeksten 10'nci indekse 3'er atlayarak stringi al."
   ]
  },
  {
   "cell_type": "code",
   "execution_count": 24,
   "id": "aggregate-contact",
   "metadata": {},
   "outputs": [
    {
     "data": {
      "text/plain": [
       "'r u'"
      ]
     },
     "execution_count": 24,
     "metadata": {},
     "output_type": "execute_result"
    }
   ],
   "source": [
    "string[2:10:3]"
   ]
  },
  {
   "cell_type": "markdown",
   "id": "pacific-driving",
   "metadata": {},
   "source": [
    "Baştan sona -1 atlayarak stringi al. (String'i ters çevirme)"
   ]
  },
  {
   "cell_type": "code",
   "execution_count": 25,
   "id": "smoking-rogers",
   "metadata": {},
   "outputs": [
    {
     "data": {
      "text/plain": [
       "'ZARİK ruğU taruM'"
      ]
     },
     "execution_count": 25,
     "metadata": {},
     "output_type": "execute_result"
    }
   ],
   "source": [
    "string[::-1]"
   ]
  },
  {
   "cell_type": "code",
   "execution_count": null,
   "id": "innovative-register",
   "metadata": {},
   "outputs": [],
   "source": []
  },
  {
   "cell_type": "markdown",
   "id": "established-extent",
   "metadata": {},
   "source": [
    "**Önemli** String bir değişkenin n'inci karakterine bir değer atayamayız!"
   ]
  },
  {
   "cell_type": "code",
   "execution_count": 26,
   "id": "outside-pepper",
   "metadata": {},
   "outputs": [
    {
     "ename": "TypeError",
     "evalue": "'str' object does not support item assignment",
     "output_type": "error",
     "traceback": [
      "\u001b[1;31m---------------------------------------------------------------------------\u001b[0m",
      "\u001b[1;31mTypeError\u001b[0m                                 Traceback (most recent call last)",
      "\u001b[1;32m<ipython-input-26-363aa9fbff6b>\u001b[0m in \u001b[0;36m<module>\u001b[1;34m\u001b[0m\n\u001b[1;32m----> 1\u001b[1;33m \u001b[0mstring\u001b[0m\u001b[1;33m[\u001b[0m\u001b[1;36m0\u001b[0m\u001b[1;33m]\u001b[0m\u001b[1;33m=\u001b[0m\u001b[1;34m\"t\"\u001b[0m\u001b[1;33m\u001b[0m\u001b[1;33m\u001b[0m\u001b[0m\n\u001b[0m",
      "\u001b[1;31mTypeError\u001b[0m: 'str' object does not support item assignment"
     ]
    }
   ],
   "source": [
    "string[0]=\"t\""
   ]
  },
  {
   "cell_type": "markdown",
   "id": "heard-oakland",
   "metadata": {},
   "source": [
    "### String bir değişkenin karakter sayısını öğrenmek"
   ]
  },
  {
   "cell_type": "markdown",
   "id": "northern-attribute",
   "metadata": {},
   "source": [
    "Eğer string bir değişkenin kaç karaktere sahip olduğunu öğrenmek istersek de len() metodunu kullanabiliriz."
   ]
  },
  {
   "cell_type": "code",
   "execution_count": 27,
   "id": "color-segment",
   "metadata": {},
   "outputs": [
    {
     "data": {
      "text/plain": [
       "16"
      ]
     },
     "execution_count": 27,
     "metadata": {},
     "output_type": "execute_result"
    }
   ],
   "source": [
    "len(string)"
   ]
  },
  {
   "cell_type": "markdown",
   "id": "visible-petite",
   "metadata": {},
   "source": [
    "### İki Stringi toplamak (İki stringi eklemek)"
   ]
  },
  {
   "cell_type": "code",
   "execution_count": 2,
   "id": "latter-differential",
   "metadata": {},
   "outputs": [],
   "source": [
    "string2=\"Ali TATAR\""
   ]
  },
  {
   "cell_type": "code",
   "execution_count": 29,
   "id": "fuzzy-paradise",
   "metadata": {},
   "outputs": [
    {
     "data": {
      "text/plain": [
       "'Murat Uğur KİRAZ'"
      ]
     },
     "execution_count": 29,
     "metadata": {},
     "output_type": "execute_result"
    }
   ],
   "source": [
    "string"
   ]
  },
  {
   "cell_type": "code",
   "execution_count": 30,
   "id": "universal-holly",
   "metadata": {},
   "outputs": [
    {
     "data": {
      "text/plain": [
       "'Murat Uğur KİRAZAli ZEYBEK'"
      ]
     },
     "execution_count": 30,
     "metadata": {},
     "output_type": "execute_result"
    }
   ],
   "source": [
    "string+string2"
   ]
  },
  {
   "cell_type": "markdown",
   "id": "auburn-afternoon",
   "metadata": {},
   "source": [
    "### String Çarpımı"
   ]
  },
  {
   "cell_type": "markdown",
   "id": "nonprofit-rouge",
   "metadata": {},
   "source": [
    "Bir string ile bir sayıyı da çarpabiliriz."
   ]
  },
  {
   "cell_type": "code",
   "execution_count": 3,
   "id": "atomic-elimination",
   "metadata": {},
   "outputs": [
    {
     "data": {
      "text/plain": [
       "'Ali TATARAli TATARAli TATARAli TATARAli TATAR'"
      ]
     },
     "execution_count": 3,
     "metadata": {},
     "output_type": "execute_result"
    }
   ],
   "source": [
    "string2*5\n"
   ]
  },
  {
   "cell_type": "markdown",
   "id": "final-steel",
   "metadata": {},
   "source": [
    "### Yorum Satırlarları"
   ]
  },
  {
   "cell_type": "markdown",
   "id": "olympic-convenience",
   "metadata": {},
   "source": [
    "Programlama dillerinde kodlama yaparken yorum satırları kullanılmalıdır. Yorum satırları, programın nasıl oluşturulduğunu, mimarinin nasıl yapıldığını, hangi işlem yapıldığını vs. yazmamızı sağlar. Bunun avantajı, sonradan kodlara baktığımızda yazdığımız kodu neden yazdığımızı hatırlamak ve aslında daha önemlisi, bizden sonra kodda değişiklik yapacak ya da kodu okuyacak kişiye bilgi vermektir. Eğer bir programda yorum satırları kullanılmışsa bu satırlar Python tarafından görülmez ve çalıştırılmaz."
   ]
  },
  {
   "cell_type": "code",
   "execution_count": 33,
   "id": "coastal-volume",
   "metadata": {},
   "outputs": [
    {
     "name": "stdout",
     "output_type": "stream",
     "text": [
      "murat\n"
     ]
    }
   ],
   "source": [
    "# Tekli Yorum Satırı için # ifadesi kullanırız.\n",
    "print(\"murat\")"
   ]
  },
  {
   "cell_type": "code",
   "execution_count": 34,
   "id": "necessary-director",
   "metadata": {},
   "outputs": [
    {
     "name": "stdout",
     "output_type": "stream",
     "text": [
      "murat\n"
     ]
    }
   ],
   "source": [
    "\"\"\"\n",
    "Çoklu Yorum Satırı için üç tırnak işareti kullanırız.\n",
    "\n",
    "\"\"\"\n",
    "print(\"murat\")"
   ]
  },
  {
   "cell_type": "code",
   "execution_count": 36,
   "id": "mechanical-ethiopia",
   "metadata": {},
   "outputs": [
    {
     "data": {
      "text/plain": [
       "'Bu bir \"string\" ifadedir'"
      ]
     },
     "execution_count": 36,
     "metadata": {},
     "output_type": "execute_result"
    }
   ],
   "source": [
    "\"\"\"Bu bir \"string\" ifadedir\"\"\""
   ]
  },
  {
   "cell_type": "code",
   "execution_count": null,
   "id": "elder-calculator",
   "metadata": {},
   "outputs": [],
   "source": []
  }
 ],
 "metadata": {
  "kernelspec": {
   "display_name": "Python 3",
   "language": "python",
   "name": "python3"
  },
  "language_info": {
   "codemirror_mode": {
    "name": "ipython",
    "version": 3
   },
   "file_extension": ".py",
   "mimetype": "text/x-python",
   "name": "python",
   "nbconvert_exporter": "python",
   "pygments_lexer": "ipython3",
   "version": "3.8.5"
  }
 },
 "nbformat": 4,
 "nbformat_minor": 5
}
