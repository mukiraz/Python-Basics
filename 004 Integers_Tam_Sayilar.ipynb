{
 "cells": [
  {
   "cell_type": "markdown",
   "id": "circular-sacrifice",
   "metadata": {},
   "source": [
    "# Tam Sayılar"
   ]
  },
  {
   "cell_type": "markdown",
   "id": "unexpected-annex",
   "metadata": {},
   "source": [
    "İngilizcesi \"Integer\" olan tam sayılar, ondalık almayan sayılardır. Matematikteki \"Tam Sayı\" terimi ile aynıdırlar. Pozitif veya negatif değer alabilirler. Örneğin 1, 10, -123, 10000 gibi"
   ]
  },
  {
   "cell_type": "code",
   "execution_count": 1,
   "id": "intelligent-selection",
   "metadata": {},
   "outputs": [
    {
     "data": {
      "text/plain": [
       "10"
      ]
     },
     "execution_count": 1,
     "metadata": {},
     "output_type": "execute_result"
    }
   ],
   "source": [
    "10"
   ]
  },
  {
   "cell_type": "code",
   "execution_count": 2,
   "id": "fatal-export",
   "metadata": {},
   "outputs": [
    {
     "data": {
      "text/plain": [
       "-123"
      ]
     },
     "execution_count": 2,
     "metadata": {},
     "output_type": "execute_result"
    }
   ],
   "source": [
    "-123"
   ]
  },
  {
   "cell_type": "code",
   "execution_count": 3,
   "id": "nuclear-isaac",
   "metadata": {},
   "outputs": [
    {
     "data": {
      "text/plain": [
       "10000"
      ]
     },
     "execution_count": 3,
     "metadata": {},
     "output_type": "execute_result"
    }
   ],
   "source": [
    "10000"
   ]
  },
  {
   "cell_type": "markdown",
   "id": "aboriginal-vietnam",
   "metadata": {},
   "source": [
    "### Bir tam sayının alabileceği en büyük ve en küçük değer"
   ]
  },
  {
   "cell_type": "markdown",
   "id": "theoretical-cream",
   "metadata": {},
   "source": [
    "Biz sys.maxsize kodu ile bu sayıyı öğrenebiliriz."
   ]
  },
  {
   "cell_type": "code",
   "execution_count": 9,
   "id": "vital-heart",
   "metadata": {},
   "outputs": [
    {
     "data": {
      "text/plain": [
       "9223372036854775807"
      ]
     },
     "execution_count": 9,
     "metadata": {},
     "output_type": "execute_result"
    }
   ],
   "source": [
    "sys.maxsize"
   ]
  },
  {
   "cell_type": "markdown",
   "id": "written-complex",
   "metadata": {},
   "source": [
    "Bu değer, 32 bit işlemci kullanan bilgisayarlarda 2^31-1 işlemine 32 bit işlemci kullanan bilgisayarlarda 2^64-1 işlemine eşit olacaktır."
   ]
  },
  {
   "cell_type": "markdown",
   "id": "blessed-lexington",
   "metadata": {},
   "source": [
    "-(sys.maxsize-1) ifadesi bize en küçük değeri verir."
   ]
  },
  {
   "cell_type": "code",
   "execution_count": 22,
   "id": "cathedral-charger",
   "metadata": {},
   "outputs": [
    {
     "data": {
      "text/plain": [
       "-9223372036854775806"
      ]
     },
     "execution_count": 22,
     "metadata": {},
     "output_type": "execute_result"
    }
   ],
   "source": [
    "-(sys.maxsize-1)"
   ]
  },
  {
   "cell_type": "markdown",
   "id": "structured-vatican",
   "metadata": {},
   "source": [
    "### Tam Sayılarda Değişkenler"
   ]
  },
  {
   "cell_type": "markdown",
   "id": "julian-eleven",
   "metadata": {},
   "source": [
    "Tam sayıları da değişkenlere atayabilirz. "
   ]
  },
  {
   "cell_type": "markdown",
   "id": "assigned-league",
   "metadata": {},
   "source": [
    "Değişkenler konusunu string ifadelerde görmüştük. Fakat burada tekrar etmek faydalı olacaktır. Değişkenler bir programlama dilinde olmazsa olmaz bir kavramlardır. Değişkenler aslında bir veri tipinden değer tutan birimlerdir."
   ]
  },
  {
   "cell_type": "markdown",
   "id": "accredited-pottery",
   "metadata": {},
   "source": [
    "Değişken ataması değişken ismi=değer şeklinde atanır. Bundan sonra değişkeni istediğimiz yerde kullanabilir ve değişkenin değerini istediğimiz şekilde değiştirebiliriz."
   ]
  },
  {
   "cell_type": "code",
   "execution_count": 2,
   "id": "fifth-sugar",
   "metadata": {},
   "outputs": [],
   "source": [
    "i =  10"
   ]
  },
  {
   "cell_type": "markdown",
   "id": "toxic-spelling",
   "metadata": {},
   "source": [
    "Bu değişkeni kullanarak istediğimiz işlemleri yaptırabiliriz."
   ]
  },
  {
   "cell_type": "code",
   "execution_count": 8,
   "id": "backed-logan",
   "metadata": {},
   "outputs": [
    {
     "data": {
      "text/plain": [
       "9223372036854775807"
      ]
     },
     "execution_count": 8,
     "metadata": {},
     "output_type": "execute_result"
    }
   ],
   "source": [
    "sys.maxsize"
   ]
  },
  {
   "cell_type": "code",
   "execution_count": null,
   "id": "functional-indonesia",
   "metadata": {},
   "outputs": [],
   "source": []
  }
 ],
 "metadata": {
  "kernelspec": {
   "display_name": "Python 3",
   "language": "python",
   "name": "python3"
  },
  "language_info": {
   "codemirror_mode": {
    "name": "ipython",
    "version": 3
   },
   "file_extension": ".py",
   "mimetype": "text/x-python",
   "name": "python",
   "nbconvert_exporter": "python",
   "pygments_lexer": "ipython3",
   "version": "3.8.5"
  }
 },
 "nbformat": 4,
 "nbformat_minor": 5
}
