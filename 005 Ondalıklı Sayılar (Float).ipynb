{
 "cells": [
  {
   "cell_type": "markdown",
   "id": "convenient-graduate",
   "metadata": {},
   "source": [
    "# Ondalıklı Sayılar (Float)"
   ]
  },
  {
   "cell_type": "markdown",
   "id": "imported-henry",
   "metadata": {},
   "source": [
    "Tamsayılar gibi ondalıklı sayılar da bizim matematikte gördüğümüz sayı çeşitlerinden bir tanesidir. Ondalıklı sayılar Pythonda da bir veri tipidir. Ondalıklı Sayılar veya diğer adıyla Kayan Sayılar İngilizce olarak **Float** olarak geçmektedir."
   ]
  },
  {
   "cell_type": "markdown",
   "id": "proof-anaheim",
   "metadata": {},
   "source": [
    "Örnek olarak, 7.22, -12.569, -18.45 gibi sayılar Python'da birer ondalıklı sayı(float) değerleridir."
   ]
  },
  {
   "cell_type": "markdown",
   "id": "material-building",
   "metadata": {},
   "source": [
    "**Not:** Pythonda ondalıklı sayılar \",\" ile değil \".\" ile tanımlanırlar."
   ]
  },
  {
   "cell_type": "code",
   "execution_count": 1,
   "id": "outer-scholarship",
   "metadata": {},
   "outputs": [
    {
     "data": {
      "text/plain": [
       "7.22"
      ]
     },
     "execution_count": 1,
     "metadata": {},
     "output_type": "execute_result"
    }
   ],
   "source": [
    "7.22"
   ]
  },
  {
   "cell_type": "code",
   "execution_count": 2,
   "id": "double-elimination",
   "metadata": {},
   "outputs": [
    {
     "data": {
      "text/plain": [
       "-12.569"
      ]
     },
     "execution_count": 2,
     "metadata": {},
     "output_type": "execute_result"
    }
   ],
   "source": [
    " -12.569"
   ]
  },
  {
   "cell_type": "code",
   "execution_count": 3,
   "id": "legal-width",
   "metadata": {},
   "outputs": [
    {
     "data": {
      "text/plain": [
       "-18.45"
      ]
     },
     "execution_count": 3,
     "metadata": {},
     "output_type": "execute_result"
    }
   ],
   "source": [
    "-18.45"
   ]
  },
  {
   "cell_type": "code",
   "execution_count": 4,
   "id": "thousand-myrtle",
   "metadata": {},
   "outputs": [
    {
     "data": {
      "text/plain": [
       "3.14"
      ]
     },
     "execution_count": 4,
     "metadata": {},
     "output_type": "execute_result"
    }
   ],
   "source": [
    "3.14"
   ]
  },
  {
   "cell_type": "markdown",
   "id": "intense-bhutan",
   "metadata": {},
   "source": [
    "### Ondalıklı Sayılarda Değişkenler"
   ]
  },
  {
   "cell_type": "markdown",
   "id": "exclusive-collection",
   "metadata": {},
   "source": [
    "Ondalıklı sayıları da değişkenlere atayabilirz. "
   ]
  },
  {
   "cell_type": "code",
   "execution_count": 8,
   "id": "advanced-gabriel",
   "metadata": {},
   "outputs": [],
   "source": [
    "ondalikli=3.14"
   ]
  },
  {
   "cell_type": "code",
   "execution_count": 7,
   "id": "charitable-campus",
   "metadata": {},
   "outputs": [],
   "source": [
    "deger=-18.45"
   ]
  },
  {
   "cell_type": "code",
   "execution_count": 1,
   "id": "juvenile-deviation",
   "metadata": {},
   "outputs": [
    {
     "data": {
      "text/plain": [
       "'Bu bir \"string\" ifadedir'"
      ]
     },
     "execution_count": 1,
     "metadata": {},
     "output_type": "execute_result"
    }
   ],
   "source": [
    "\"\"\"Bu bir \"string\" ifadedir\"\"\""
   ]
  },
  {
   "cell_type": "code",
   "execution_count": null,
   "id": "imposed-seminar",
   "metadata": {},
   "outputs": [],
   "source": []
  }
 ],
 "metadata": {
  "kernelspec": {
   "display_name": "Python 3",
   "language": "python",
   "name": "python3"
  },
  "language_info": {
   "codemirror_mode": {
    "name": "ipython",
    "version": 3
   },
   "file_extension": ".py",
   "mimetype": "text/x-python",
   "name": "python",
   "nbconvert_exporter": "python",
   "pygments_lexer": "ipython3",
   "version": "3.8.5"
  }
 },
 "nbformat": 4,
 "nbformat_minor": 5
}
