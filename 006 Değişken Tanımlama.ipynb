{
 "cells": [
  {
   "cell_type": "markdown",
   "id": "painful-bennett",
   "metadata": {},
   "source": [
    "# Değişkenler ve Değişken Tanımlama"
   ]
  },
  {
   "cell_type": "markdown",
   "id": "fallen-parallel",
   "metadata": {},
   "source": [
    "Değişkenler bir programlama dilinde olmazsa olmaz bir kavramdır. Değişkenler aslında bir veri tipinde değer tutan birimlerdir."
   ]
  },
  {
   "cell_type": "code",
   "execution_count": 1,
   "id": "professional-signal",
   "metadata": {},
   "outputs": [],
   "source": [
    "i=10"
   ]
  },
  {
   "cell_type": "code",
   "execution_count": 2,
   "id": "reliable-knitting",
   "metadata": {},
   "outputs": [],
   "source": [
    "j=\"ahmet\""
   ]
  },
  {
   "cell_type": "code",
   "execution_count": 3,
   "id": "universal-welsh",
   "metadata": {},
   "outputs": [],
   "source": [
    "k=3.14"
   ]
  },
  {
   "cell_type": "code",
   "execution_count": 4,
   "id": "atomic-paris",
   "metadata": {},
   "outputs": [],
   "source": [
    "c=complex(3,4)"
   ]
  },
  {
   "cell_type": "markdown",
   "id": "oriental-daily",
   "metadata": {},
   "source": [
    "Değişkeni oluşturduktan sonra ekrana bastırabiliriz."
   ]
  },
  {
   "cell_type": "code",
   "execution_count": 5,
   "id": "extraordinary-evans",
   "metadata": {},
   "outputs": [
    {
     "data": {
      "text/plain": [
       "'ahmet'"
      ]
     },
     "execution_count": 5,
     "metadata": {},
     "output_type": "execute_result"
    }
   ],
   "source": [
    "j"
   ]
  },
  {
   "cell_type": "markdown",
   "id": "cellular-writing",
   "metadata": {},
   "source": [
    "Bu değişkenin değerini değiştirebiliriz. Bunun için , yeni değerimizi **\"=\"** operatörüyle değişkenimize **atamamız** gerekiyor."
   ]
  },
  {
   "cell_type": "code",
   "execution_count": 6,
   "id": "engaged-shakespeare",
   "metadata": {},
   "outputs": [],
   "source": [
    "j=3"
   ]
  },
  {
   "cell_type": "code",
   "execution_count": 7,
   "id": "improved-discovery",
   "metadata": {},
   "outputs": [
    {
     "data": {
      "text/plain": [
       "3"
      ]
     },
     "execution_count": 7,
     "metadata": {},
     "output_type": "execute_result"
    }
   ],
   "source": [
    "j"
   ]
  },
  {
   "cell_type": "markdown",
   "id": "derived-proxy",
   "metadata": {},
   "source": [
    "Yeni bir değişkene eski değişkenlerin değerlerini kullanarak değer atayabiliriz."
   ]
  },
  {
   "cell_type": "code",
   "execution_count": 8,
   "id": "secret-malawi",
   "metadata": {},
   "outputs": [],
   "source": [
    "l=i+k"
   ]
  },
  {
   "cell_type": "code",
   "execution_count": 9,
   "id": "parliamentary-mystery",
   "metadata": {},
   "outputs": [
    {
     "data": {
      "text/plain": [
       "13.14"
      ]
     },
     "execution_count": 9,
     "metadata": {},
     "output_type": "execute_result"
    }
   ],
   "source": [
    "l"
   ]
  },
  {
   "cell_type": "markdown",
   "id": "recent-bridal",
   "metadata": {},
   "source": [
    "### Değişkenlere isim vermek"
   ]
  },
  {
   "cell_type": "markdown",
   "id": "theoretical-induction",
   "metadata": {},
   "source": [
    "#### Python kuralları"
   ]
  },
  {
   "cell_type": "markdown",
   "id": "dated-material",
   "metadata": {},
   "source": [
    "1. Değişken isimleri bir sayı ile başlayamaz.\n",
    "2. Değişken ismi kelimelerden oluşuyorsa aralarında boşluk olamaz.\n",
    "3. :'\",<>/?|\\()!@#$%^&*~-+ Buradaki semboller değişken ismi içinde kullanılamaz.(Sadece _ sembolü kullanılabilir)\n",
    "4. Pythonda tanımlı anahtar kelimeler değişken ismi olarak kullanılamaz.(while, not vs. )"
   ]
  },
  {
   "cell_type": "code",
   "execution_count": 11,
   "id": "altered-concord",
   "metadata": {},
   "outputs": [
    {
     "ename": "SyntaxError",
     "evalue": "invalid syntax (<ipython-input-11-687cb8aeaa4f>, line 2)",
     "output_type": "error",
     "traceback": [
      "\u001b[1;36m  File \u001b[1;32m\"<ipython-input-11-687cb8aeaa4f>\"\u001b[1;36m, line \u001b[1;32m2\u001b[0m\n\u001b[1;33m    i? = 5\u001b[0m\n\u001b[1;37m     ^\u001b[0m\n\u001b[1;31mSyntaxError\u001b[0m\u001b[1;31m:\u001b[0m invalid syntax\n"
     ]
    }
   ],
   "source": [
    "#Hatalı\n",
    "i? = 5"
   ]
  },
  {
   "cell_type": "code",
   "execution_count": 12,
   "id": "naval-librarian",
   "metadata": {},
   "outputs": [],
   "source": [
    "#Doğru\n",
    "_i = 5"
   ]
  },
  {
   "cell_type": "code",
   "execution_count": 13,
   "id": "manufactured-value",
   "metadata": {},
   "outputs": [],
   "source": [
    "pi_sayısı = 3.14\n",
    "çap = 4\n",
    "çevre = pi_sayısı * çap"
   ]
  },
  {
   "cell_type": "code",
   "execution_count": 14,
   "id": "placed-vertex",
   "metadata": {},
   "outputs": [
    {
     "data": {
      "text/plain": [
       "12.56"
      ]
     },
     "execution_count": 14,
     "metadata": {},
     "output_type": "execute_result"
    }
   ],
   "source": [
    "çevre"
   ]
  },
  {
   "cell_type": "markdown",
   "id": "addressed-mistake",
   "metadata": {},
   "source": [
    "### Kısa Yollar"
   ]
  },
  {
   "cell_type": "markdown",
   "id": "original-underwear",
   "metadata": {},
   "source": [
    "#### Birden çok değişkene birden çok değer atama"
   ]
  },
  {
   "cell_type": "code",
   "execution_count": 24,
   "id": "stopped-valley",
   "metadata": {},
   "outputs": [],
   "source": [
    "a, b, c = 5, 3.2, \"Hello\""
   ]
  },
  {
   "cell_type": "code",
   "execution_count": 25,
   "id": "organized-singer",
   "metadata": {},
   "outputs": [
    {
     "name": "stdout",
     "output_type": "stream",
     "text": [
      "5\n",
      "3.2\n",
      "Hello\n"
     ]
    }
   ],
   "source": [
    "print (a)\n",
    "print (b)\n",
    "print (c)"
   ]
  },
  {
   "cell_type": "markdown",
   "id": "empty-sheffield",
   "metadata": {},
   "source": [
    "#### Aynı değeri aynı anda birden çok değişkene atama"
   ]
  },
  {
   "cell_type": "code",
   "execution_count": 26,
   "id": "comparative-harbor",
   "metadata": {},
   "outputs": [
    {
     "name": "stdout",
     "output_type": "stream",
     "text": [
      "aynı\n",
      "aynı\n",
      "aynı\n"
     ]
    }
   ],
   "source": [
    "x = y = z = \"aynı\"\n",
    "\n",
    "print (x)\n",
    "print (y)\n",
    "print (z)"
   ]
  },
  {
   "cell_type": "markdown",
   "id": "excessive-natural",
   "metadata": {},
   "source": [
    "#### Python'da iki değişkenin değerini birbiriyle değiştirme"
   ]
  },
  {
   "cell_type": "code",
   "execution_count": 29,
   "id": "republican-print",
   "metadata": {},
   "outputs": [],
   "source": [
    "a,b=b,a"
   ]
  },
  {
   "cell_type": "code",
   "execution_count": 30,
   "id": "palestinian-thought",
   "metadata": {},
   "outputs": [
    {
     "data": {
      "text/plain": [
       "3.2"
      ]
     },
     "execution_count": 30,
     "metadata": {},
     "output_type": "execute_result"
    }
   ],
   "source": [
    "a"
   ]
  },
  {
   "cell_type": "code",
   "execution_count": 31,
   "id": "short-german",
   "metadata": {},
   "outputs": [
    {
     "data": {
      "text/plain": [
       "5"
      ]
     },
     "execution_count": 31,
     "metadata": {},
     "output_type": "execute_result"
    }
   ],
   "source": [
    "b"
   ]
  },
  {
   "cell_type": "markdown",
   "id": "chinese-invalid",
   "metadata": {},
   "source": [
    "#### Bir değişkenin değerini artırma"
   ]
  },
  {
   "cell_type": "code",
   "execution_count": 32,
   "id": "saved-adoption",
   "metadata": {},
   "outputs": [
    {
     "data": {
      "text/plain": [
       "6"
      ]
     },
     "execution_count": 32,
     "metadata": {},
     "output_type": "execute_result"
    }
   ],
   "source": [
    "x= 5\n",
    "x=x+1\n",
    "x"
   ]
  },
  {
   "cell_type": "markdown",
   "id": "moving-commissioner",
   "metadata": {},
   "source": [
    "veya"
   ]
  },
  {
   "cell_type": "code",
   "execution_count": 33,
   "id": "every-military",
   "metadata": {},
   "outputs": [
    {
     "data": {
      "text/plain": [
       "6"
      ]
     },
     "execution_count": 33,
     "metadata": {},
     "output_type": "execute_result"
    }
   ],
   "source": [
    "x=5\n",
    "x+=1\n",
    "x"
   ]
  },
  {
   "cell_type": "markdown",
   "id": "variable-atlanta",
   "metadata": {},
   "source": [
    "Bunu diğer aritmetik operatörlerle de yapabiliriz."
   ]
  },
  {
   "cell_type": "code",
   "execution_count": 36,
   "id": "sudden-generator",
   "metadata": {},
   "outputs": [
    {
     "data": {
      "text/plain": [
       "30"
      ]
     },
     "execution_count": 36,
     "metadata": {},
     "output_type": "execute_result"
    }
   ],
   "source": [
    "y = 10\n",
    "y *= 3\n",
    "y"
   ]
  },
  {
   "cell_type": "markdown",
   "id": "european-dayton",
   "metadata": {},
   "source": [
    "### Programcılık Kuralları"
   ]
  },
  {
   "cell_type": "markdown",
   "id": "global-international",
   "metadata": {},
   "source": [
    "Programlama dilleri kendi kuralları dahilinde değişkenlere isim vermemizi sağlasa da, program dilinin okunabilirliği açısından \"insan odaklı\" değişken oluşturmak bizim yararımıza olacaktır. Ayrıca disiplinli bir kod yazmak için değişkenler standart oluşturulmalıdır."
   ]
  },
  {
   "cell_type": "markdown",
   "id": "pharmaceutical-symposium",
   "metadata": {},
   "source": [
    "#### Okunabilirlik"
   ]
  },
  {
   "cell_type": "markdown",
   "id": "juvenile-stuff",
   "metadata": {},
   "source": [
    "İyi bir programcı, geliştiricilerin ve analistlerin sistemin ne yaptığını anlamasını ve yeni ihtiyaçlara başvurmak için kaynak kodun nasıl düzeltileceğini veya genişletileceğini önemli ölçüde kolaylaştırmalıdır."
   ]
  },
  {
   "cell_type": "code",
   "execution_count": 18,
   "id": "blocked-palmer",
   "metadata": {},
   "outputs": [
    {
     "data": {
      "text/plain": [
       "15"
      ]
     },
     "execution_count": 18,
     "metadata": {},
     "output_type": "execute_result"
    }
   ],
   "source": [
    "a=3\n",
    "b=5\n",
    "c=a*b\n",
    "c"
   ]
  },
  {
   "cell_type": "markdown",
   "id": "documented-kuwait",
   "metadata": {},
   "source": [
    "Yukarıdaki değişkenlerin amacı belli değildir. Bir de şuna bakalım."
   ]
  },
  {
   "cell_type": "code",
   "execution_count": 22,
   "id": "laden-ladder",
   "metadata": {},
   "outputs": [
    {
     "data": {
      "text/plain": [
       "15"
      ]
     },
     "execution_count": 22,
     "metadata": {},
     "output_type": "execute_result"
    }
   ],
   "source": [
    "gunluk_calisma_saati=3\n",
    "gunluk_calisma_ucreti=5\n",
    "haftalık_ucret=gunluk_calisma_saati*gunluk_calisma_ucreti\n",
    "haftalık_ucret"
   ]
  },
  {
   "cell_type": "markdown",
   "id": "human-bobby",
   "metadata": {},
   "source": [
    "#### Programcılıkta Formatlar"
   ]
  },
  {
   "cell_type": "markdown",
   "id": "distinguished-acquisition",
   "metadata": {},
   "source": [
    "| Formatting | Naming |\n",
    "|:-|:-|\n",
    "| twowords | flat case |\n",
    "| TWOWORDS | upper flat case |\n",
    "| twoWords | (lower) camelCase, dromedaryCase |\n",
    "| TwoWords | PascalCase,Upper Camel Case,StudlyCase |\n",
    "| two_words | snake_case, pothole_case |\n",
    "| TWO_WORDS | SCREAMING_SNAKE_CASE, MACRO_CASE, CONSTANT_CASE |\n",
    "| two_Words | camel_Snake_Case |\n",
    "| Two_Words | Pascal_Snake_Case |\n",
    "| two-words | kebab-case, dash-case, lisp-case |\n",
    "| Two-Words | rain-Case HTTP-Header-Case |"
   ]
  },
  {
   "cell_type": "markdown",
   "id": "velvet-confusion",
   "metadata": {},
   "source": [
    "Bu formatlar genel geçer olmamakla birlikte kabul gören formatlardır."
   ]
  },
  {
   "cell_type": "markdown",
   "id": "ranging-borough",
   "metadata": {},
   "source": [
    "#### Python'da kullanacağımız formatlar"
   ]
  },
  {
   "cell_type": "markdown",
   "id": "sacred-cooperation",
   "metadata": {},
   "source": [
    "**Değişken/Fonksiyon adları:** snake_case, pothole_case ile\n",
    "\n",
    "**Constants(Sabitler):** SCREAMING_SNAKE_CASE, MACRO_CASE, CONSTANT_CASE ile\n",
    "\n",
    "**Classes(Sınıflar):** (lower) camelCase, dromedaryCase ile"
   ]
  },
  {
   "cell_type": "markdown",
   "id": "hidden-proxy",
   "metadata": {},
   "source": [
    "olacaktır."
   ]
  },
  {
   "cell_type": "markdown",
   "id": "hourly-hudson",
   "metadata": {},
   "source": [
    "Ayrıca değişken isimleri Türkçe olsa bile ingilizce karakterlerle tanımlanacaktır."
   ]
  },
  {
   "cell_type": "code",
   "execution_count": null,
   "id": "boxed-mentor",
   "metadata": {},
   "outputs": [],
   "source": []
  }
 ],
 "metadata": {
  "kernelspec": {
   "display_name": "Python 3",
   "language": "python",
   "name": "python3"
  },
  "language_info": {
   "codemirror_mode": {
    "name": "ipython",
    "version": 3
   },
   "file_extension": ".py",
   "mimetype": "text/x-python",
   "name": "python",
   "nbconvert_exporter": "python",
   "pygments_lexer": "ipython3",
   "version": "3.8.5"
  }
 },
 "nbformat": 4,
 "nbformat_minor": 5
}
