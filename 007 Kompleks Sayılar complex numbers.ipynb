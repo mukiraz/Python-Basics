{
 "cells": [
  {
   "cell_type": "markdown",
   "id": "documented-congress",
   "metadata": {},
   "source": [
    "### Kompleks sayılar"
   ]
  },
  {
   "cell_type": "markdown",
   "id": "abstract-visit",
   "metadata": {},
   "source": [
    "Yalnızca gerçek sayıları değil, Python, \"cmath\" dosyasını kullanarak karmaşık sayıları ve ilişkili işlevlerini de işleyebilir. Karmaşık sayıların matematikle ilgili birçok uygulamada kullanımı vardır. Python, bunları işlemek için yararlı araçlar sağlar."
   ]
  },
  {
   "cell_type": "markdown",
   "id": "micro-welding",
   "metadata": {},
   "source": [
    "Karmaşık bir sayı \" x + yi \" ile temsil edilir . Python, x ve y gerçek sayılarını complex(x, y) fonksiyonunu kullanarak komplekse dönüştürür . Gerçek kısma real() fonksiyonu kullanılarak erişilebilir ve hayali kısım imag() ile temsil edilebilir ."
   ]
  },
  {
   "attachments": {
    "image.png": {
     "image/png": "[encoded data removed]"
    }
   },
   "cell_type": "markdown",
   "id": "controlling-encoding",
   "metadata": {},
   "source": [
    "Matematikte, -1 'in karekökü alınamaz. Fakat ![image.png](attachment:image.png) özelliğini sağlayan sanal birime i denir."
   ]
  },
  {
   "cell_type": "markdown",
   "id": "unnecessary-assault",
   "metadata": {},
   "source": [
    "Karmaşık sayılar mühendislikte sık kullanılırlar. Buna elektrik mühendisliğindeki R-L-C devreleri örnek verilebilir. Alternatif akım uygulanan bir devrede direnç empedans olarak adlandırılır ve gerçek değeri vardır. Devrede kondansatör kullanıldığında bu sefer dirence kapasitans denir ve pozitif imajinal değere denk gelir. "
   ]
  },
  {
   "cell_type": "markdown",
   "id": "apart-recorder",
   "metadata": {},
   "source": [
    "Karmaşık sayıları anlamak için kartezyen koordinat düzlemini kullanabiliriz."
   ]
  },
  {
   "attachments": {
    "image.png": {
     "image/png": "[encoded data removed]"
    }
   },
   "cell_type": "markdown",
   "id": "descending-chain",
   "metadata": {},
   "source": [
    "![image.png](attachment:image.png)"
   ]
  },
  {
   "cell_type": "markdown",
   "id": "delayed-delaware",
   "metadata": {},
   "source": [
    "Karmaşık bir düzlemde nokta (kırmızı) ve konum vektörü (mavi) ile çizilen karmaşık sayı; a+ib veya a+bi olarak da gösterilir. Dikdörtgendir ve noktayı ifade eder."
   ]
  },
  {
   "cell_type": "code",
   "execution_count": 1,
   "id": "reasonable-receiver",
   "metadata": {},
   "outputs": [
    {
     "data": {
      "text/plain": [
       "(3+4j)"
      ]
     },
     "execution_count": 1,
     "metadata": {},
     "output_type": "execute_result"
    }
   ],
   "source": [
    "complex(3,4)"
   ]
  },
  {
   "cell_type": "markdown",
   "id": "satisfied-parks",
   "metadata": {},
   "source": [
    "### Kompleks Sayılarda Değişkenler"
   ]
  },
  {
   "cell_type": "markdown",
   "id": "abandoned-queensland",
   "metadata": {},
   "source": [
    "Kompleks sayıları da değişkenlere atayabiliriz."
   ]
  },
  {
   "cell_type": "code",
   "execution_count": 2,
   "id": "plastic-shell",
   "metadata": {},
   "outputs": [],
   "source": [
    "c=complex(3,4)"
   ]
  },
  {
   "cell_type": "markdown",
   "id": "cultural-wheel",
   "metadata": {},
   "source": [
    "Kompleks sayının reel kısmını almak istersek .real metodunu kullanırız."
   ]
  },
  {
   "cell_type": "code",
   "execution_count": 2,
   "id": "continental-programmer",
   "metadata": {},
   "outputs": [],
   "source": [
    "c=complex(3,4)"
   ]
  },
  {
   "cell_type": "code",
   "execution_count": 4,
   "id": "overhead-mystery",
   "metadata": {},
   "outputs": [
    {
     "data": {
      "text/plain": [
       "9.0"
      ]
     },
     "execution_count": 4,
     "metadata": {},
     "output_type": "execute_result"
    }
   ],
   "source": [
    "c.real**2"
   ]
  },
  {
   "cell_type": "markdown",
   "id": "catholic-nelson",
   "metadata": {},
   "source": [
    "Kompleks sayının imajinal kısmını almak istersek .imag metodunu kullanırız."
   ]
  },
  {
   "cell_type": "code",
   "execution_count": 6,
   "id": "usual-northwest",
   "metadata": {},
   "outputs": [
    {
     "data": {
      "text/plain": [
       "4.0"
      ]
     },
     "execution_count": 6,
     "metadata": {},
     "output_type": "execute_result"
    }
   ],
   "source": [
    "c.imag"
   ]
  },
  {
   "attachments": {
    "image.png": {
     "image/png": "[encoded data removed]"
    }
   },
   "cell_type": "markdown",
   "id": "victorian-reset",
   "metadata": {},
   "source": [
    "Kompleks sayının eşleneğini bulmak istersek .conjugate metodunu kullanırız.![image.png](attachment:image.png)"
   ]
  },
  {
   "cell_type": "code",
   "execution_count": 9,
   "id": "lesbian-blackberry",
   "metadata": {},
   "outputs": [
    {
     "data": {
      "text/plain": [
       "(3-4j)"
      ]
     },
     "execution_count": 9,
     "metadata": {},
     "output_type": "execute_result"
    }
   ],
   "source": [
    "c.conjugate()"
   ]
  },
  {
   "cell_type": "markdown",
   "id": "practical-mills",
   "metadata": {},
   "source": [
    "### Karmaşık bir sayının büyüklüğü"
   ]
  },
  {
   "attachments": {
    "image.png": {
     "image/png": "[encoded data removed]"
    }
   },
   "cell_type": "markdown",
   "id": "exposed-smile",
   "metadata": {},
   "source": [
    "Şekilde gösterilen orjin (merkez)den z noktasına olan uzaklık, mutlak değer olarak bilinir. Mutlak değer veya büyüklük |z| olarak yazılır. Pisagor teoremine göre, ![image.png](attachment:image.png) bize karmaşık sayının büyüklüğünü verir."
   ]
  },
  {
   "cell_type": "markdown",
   "id": "bacterial-poultry",
   "metadata": {},
   "source": [
    "Kompleks sayının büyüklüğünü veya mutlak değerini bulmak istersek abs() fonksiyonunu kullanırız."
   ]
  },
  {
   "cell_type": "code",
   "execution_count": 10,
   "id": "signed-guinea",
   "metadata": {},
   "outputs": [
    {
     "data": {
      "text/plain": [
       "5.0"
      ]
     },
     "execution_count": 10,
     "metadata": {},
     "output_type": "execute_result"
    }
   ],
   "source": [
    "abs(c)"
   ]
  },
  {
   "cell_type": "code",
   "execution_count": null,
   "id": "smooth-snake",
   "metadata": {},
   "outputs": [],
   "source": []
  }
 ],
 "metadata": {
  "kernelspec": {
   "display_name": "Python 3",
   "language": "python",
   "name": "python3"
  },
  "language_info": {
   "codemirror_mode": {
    "name": "ipython",
    "version": 3
   },
   "file_extension": ".py",
   "mimetype": "text/x-python",
   "name": "python",
   "nbconvert_exporter": "python",
   "pygments_lexer": "ipython3",
   "version": "3.8.5"
  }
 },
 "nbformat": 4,
 "nbformat_minor": 5
}
