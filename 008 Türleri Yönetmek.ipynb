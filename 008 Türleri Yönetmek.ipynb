{
 "cells": [
  {
   "cell_type": "markdown",
   "id": "revolutionary-summer",
   "metadata": {},
   "source": [
    "# Türleri Yönetmek ve Veri Tipi Dönüşümleri\n",
    "Pythonda ve diğer çoğu programlama dilinde veritiplerinin birbirine dönüştürülmesi gerekir. Örneğin ondalıklı sayıyı tamsayıya dönüştürme, hatta bir string'i tamsayıya dönüştürme işlemleri programlarımızı yazarken büyük önem taşır. \n"
   ]
  },
  {
   "cell_type": "markdown",
   "id": "appreciated-nashville",
   "metadata": {},
   "source": [
    "### Veri tipini öğrenme"
   ]
  },
  {
   "cell_type": "code",
   "execution_count": null,
   "id": "pacific-morris",
   "metadata": {},
   "outputs": [],
   "source": [
    "Veri tipini öğrenmek için type() fonksiyonunu kullanabiliriz."
   ]
  },
  {
   "cell_type": "code",
   "execution_count": 19,
   "id": "freelance-causing",
   "metadata": {},
   "outputs": [],
   "source": [
    "tam_sayi=5\n",
    "ondalikli_sayi=5.4\n",
    "karakter_dizisi=\"Mehmet\"\n",
    "kompleks_sayi=complex(3,4)"
   ]
  },
  {
   "cell_type": "code",
   "execution_count": 20,
   "id": "undefined-disposition",
   "metadata": {},
   "outputs": [
    {
     "data": {
      "text/plain": [
       "int"
      ]
     },
     "execution_count": 20,
     "metadata": {},
     "output_type": "execute_result"
    }
   ],
   "source": [
    "type(tam_sayi)"
   ]
  },
  {
   "cell_type": "code",
   "execution_count": 21,
   "id": "textile-parish",
   "metadata": {},
   "outputs": [
    {
     "data": {
      "text/plain": [
       "float"
      ]
     },
     "execution_count": 21,
     "metadata": {},
     "output_type": "execute_result"
    }
   ],
   "source": [
    "type(ondalikli_sayi)"
   ]
  },
  {
   "cell_type": "code",
   "execution_count": 22,
   "id": "placed-planning",
   "metadata": {},
   "outputs": [
    {
     "data": {
      "text/plain": [
       "str"
      ]
     },
     "execution_count": 22,
     "metadata": {},
     "output_type": "execute_result"
    }
   ],
   "source": [
    "type(karakter_dizisi)"
   ]
  },
  {
   "cell_type": "code",
   "execution_count": 23,
   "id": "essential-clause",
   "metadata": {},
   "outputs": [
    {
     "data": {
      "text/plain": [
       "complex"
      ]
     },
     "execution_count": 23,
     "metadata": {},
     "output_type": "execute_result"
    }
   ],
   "source": [
    "type(kompleks_sayi)"
   ]
  },
  {
   "cell_type": "markdown",
   "id": "distinguished-juice",
   "metadata": {},
   "source": [
    "\n",
    "### Tamsayıyı Ondalıklı Sayıya Çevirme\n",
    "\n",
    "Bir tamsayı değeri(integer) ondalıklı sayıya(float) çevirmek için *float()* fonksiyonunu kullanırız."
   ]
  },
  {
   "cell_type": "code",
   "execution_count": 2,
   "id": "happy-confidence",
   "metadata": {},
   "outputs": [
    {
     "data": {
      "text/plain": [
       "43.0"
      ]
     },
     "execution_count": 2,
     "metadata": {},
     "output_type": "execute_result"
    }
   ],
   "source": [
    "# Çevireceğimiz sayıyı parantez içine alıyoruz.\n",
    "int_to_float = 43\n",
    "float(int_to_float)"
   ]
  },
  {
   "cell_type": "markdown",
   "id": "israeli-shift",
   "metadata": {},
   "source": [
    "Ya da float() fonksiyonuna doğrudan bir tamsayı verebiliriz."
   ]
  },
  {
   "cell_type": "code",
   "execution_count": 3,
   "id": "cleared-stylus",
   "metadata": {},
   "outputs": [
    {
     "data": {
      "text/plain": [
       "-35.0"
      ]
     },
     "execution_count": 3,
     "metadata": {},
     "output_type": "execute_result"
    }
   ],
   "source": [
    "float(-35)"
   ]
  },
  {
   "cell_type": "code",
   "execution_count": 4,
   "id": "drawn-directive",
   "metadata": {},
   "outputs": [
    {
     "data": {
      "text/plain": [
       "423.0"
      ]
     },
     "execution_count": 4,
     "metadata": {},
     "output_type": "execute_result"
    }
   ],
   "source": [
    "float(423)"
   ]
  },
  {
   "cell_type": "markdown",
   "id": "aboriginal-style",
   "metadata": {},
   "source": [
    "### Ondalıklı Sayıyı Tamsayıya Çevirme\n",
    "\n",
    "Bir ondalıklı sayıyı tamsayıya çevirmek için *int()* fonksiyonunu kullanırız.Sonuç, ondalıklı sayının tam kısmı olarak karşımıza çıkar."
   ]
  },
  {
   "cell_type": "code",
   "execution_count": 5,
   "id": "direct-franchise",
   "metadata": {},
   "outputs": [
    {
     "data": {
      "text/plain": [
       "4"
      ]
     },
     "execution_count": 5,
     "metadata": {},
     "output_type": "execute_result"
    }
   ],
   "source": [
    "int(4.7)"
   ]
  },
  {
   "cell_type": "code",
   "execution_count": 6,
   "id": "overhead-citizen",
   "metadata": {},
   "outputs": [
    {
     "data": {
      "text/plain": [
       "3"
      ]
     },
     "execution_count": 6,
     "metadata": {},
     "output_type": "execute_result"
    }
   ],
   "source": [
    "int(3.14)"
   ]
  },
  {
   "cell_type": "code",
   "execution_count": 7,
   "id": "exclusive-mouse",
   "metadata": {},
   "outputs": [
    {
     "data": {
      "text/plain": [
       "10"
      ]
     },
     "execution_count": 7,
     "metadata": {},
     "output_type": "execute_result"
    }
   ],
   "source": [
    "int(10.3435435345345345)"
   ]
  },
  {
   "cell_type": "code",
   "execution_count": 10,
   "id": "transsexual-radiation",
   "metadata": {},
   "outputs": [
    {
     "data": {
      "text/plain": [
       "1"
      ]
     },
     "execution_count": 10,
     "metadata": {},
     "output_type": "execute_result"
    }
   ],
   "source": [
    "integer_num = 4\n",
    "float_num = 2.2\n",
    "int(integer_num/float_num)"
   ]
  },
  {
   "cell_type": "markdown",
   "id": "sealed-tribute",
   "metadata": {},
   "source": [
    "### Sayıları Stringlere Çevirme\n",
    "\n",
    "Bir sayıyı string'e çevirmek için *str()* fonksiyonunu kullanırız.Sayıyı oluşturan tüm rakamlar veya noktalar birer karaktere dönüşür."
   ]
  },
  {
   "cell_type": "code",
   "execution_count": 11,
   "id": "sunset-david",
   "metadata": {},
   "outputs": [
    {
     "data": {
      "text/plain": [
       "'32324324'"
      ]
     },
     "execution_count": 11,
     "metadata": {},
     "output_type": "execute_result"
    }
   ],
   "source": [
    "integer_number = 32324324\n",
    "string_number = str(integer_number)\n",
    "string_number"
   ]
  },
  {
   "cell_type": "code",
   "execution_count": 12,
   "id": "fatal-geneva",
   "metadata": {},
   "outputs": [
    {
     "data": {
      "text/plain": [
       "8"
      ]
     },
     "execution_count": 12,
     "metadata": {},
     "output_type": "execute_result"
    }
   ],
   "source": [
    "len(string_number)"
   ]
  },
  {
   "cell_type": "markdown",
   "id": "danish-things",
   "metadata": {},
   "source": [
    "### Stringleri Tamsayıya Çevirme\n",
    "\n",
    "Bir string'i bir tamsayıya çevirmek istediğimiz zaman *int()*  fonksiyonunu kullanırız. Ancak dönüştürme işleminde stringin her bir karakteri bir *rakam* olmalıdır"
   ]
  },
  {
   "cell_type": "code",
   "execution_count": 13,
   "id": "quick-culture",
   "metadata": {},
   "outputs": [
    {
     "data": {
      "text/plain": [
       "32434324324234"
      ]
     },
     "execution_count": 13,
     "metadata": {},
     "output_type": "execute_result"
    }
   ],
   "source": [
    "# Doğru\n",
    "string_to_integer = \"32434324324234\"\n",
    "integer_number = int(string_to_integer)\n",
    "integer_number"
   ]
  },
  {
   "cell_type": "code",
   "execution_count": 14,
   "id": "guilty-protest",
   "metadata": {},
   "outputs": [
    {
     "ename": "ValueError",
     "evalue": "invalid literal for int() with base 10: 'dasdasd343435'",
     "output_type": "error",
     "traceback": [
      "\u001b[1;31m---------------------------------------------------------------------------\u001b[0m",
      "\u001b[1;31mValueError\u001b[0m                                Traceback (most recent call last)",
      "\u001b[1;32m<ipython-input-14-bae94803ffa1>\u001b[0m in \u001b[0;36m<module>\u001b[1;34m\u001b[0m\n\u001b[0;32m      1\u001b[0m \u001b[1;31m# Hatalı - Her bir karakterin 10'luk tabanda olması gereklidir.\u001b[0m\u001b[1;33m\u001b[0m\u001b[1;33m\u001b[0m\u001b[1;33m\u001b[0m\u001b[0m\n\u001b[0;32m      2\u001b[0m \u001b[0mstring_to_integer\u001b[0m \u001b[1;33m=\u001b[0m \u001b[1;34m\"dasdasd343435\"\u001b[0m\u001b[1;33m\u001b[0m\u001b[1;33m\u001b[0m\u001b[0m\n\u001b[1;32m----> 3\u001b[1;33m \u001b[0minteger_number\u001b[0m \u001b[1;33m=\u001b[0m \u001b[0mint\u001b[0m\u001b[1;33m(\u001b[0m\u001b[0mstring_to_integer\u001b[0m\u001b[1;33m)\u001b[0m\u001b[1;33m\u001b[0m\u001b[1;33m\u001b[0m\u001b[0m\n\u001b[0m\u001b[0;32m      4\u001b[0m \u001b[0minteger_number\u001b[0m\u001b[1;33m\u001b[0m\u001b[1;33m\u001b[0m\u001b[0m\n",
      "\u001b[1;31mValueError\u001b[0m: invalid literal for int() with base 10: 'dasdasd343435'"
     ]
    }
   ],
   "source": [
    "# Hatalı - Her bir karakterin 10'luk tabanda olması gereklidir.\n",
    "string_to_integer = \"dasdasd343435\"\n",
    "integer_number = int(string_to_integer)\n",
    "integer_number"
   ]
  },
  {
   "cell_type": "markdown",
   "id": "secure-granny",
   "metadata": {},
   "source": [
    "### Stringleri Ondalıklı Sayıya Çevirme\n",
    "\n",
    "Bir string'i bir ondalıklı sayıya çevirmek istediğimiz zaman *float()*  fonksiyonunu kullanırız. Ancak dönüştürme işlemini yaparken stringin ondalıklı sayı formatına uygun olduğundan emin olmalıyız. \n",
    "\n",
    "**Not:** Pythonda ondalıklı sayılar \",\" ile değil \".\" ile tanımlanırlar. Dolayısıyla string ifadede ondalıklı değer olacaksa \".\" içermelidir."
   ]
  },
  {
   "cell_type": "code",
   "execution_count": 15,
   "id": "promotional-amateur",
   "metadata": {},
   "outputs": [
    {
     "data": {
      "text/plain": [
       "3.1444545"
      ]
     },
     "execution_count": 15,
     "metadata": {},
     "output_type": "execute_result"
    }
   ],
   "source": [
    "# Doğru Kod\n",
    "string_to_float = \"3.1444545\"\n",
    "float_number = float(string_to_float)\n",
    "float_number"
   ]
  },
  {
   "cell_type": "code",
   "execution_count": 16,
   "id": "accompanied-narrow",
   "metadata": {},
   "outputs": [
    {
     "ename": "ValueError",
     "evalue": "could not convert string to float: '3.14.324324'",
     "output_type": "error",
     "traceback": [
      "\u001b[1;31m---------------------------------------------------------------------------\u001b[0m",
      "\u001b[1;31mValueError\u001b[0m                                Traceback (most recent call last)",
      "\u001b[1;32m<ipython-input-16-257bd3e7926b>\u001b[0m in \u001b[0;36m<module>\u001b[1;34m\u001b[0m\n\u001b[0;32m      1\u001b[0m \u001b[1;31m# Hatalı Kod\u001b[0m\u001b[1;33m\u001b[0m\u001b[1;33m\u001b[0m\u001b[1;33m\u001b[0m\u001b[0m\n\u001b[0;32m      2\u001b[0m \u001b[0mstring_to_float\u001b[0m \u001b[1;33m=\u001b[0m \u001b[1;34m\"3.14.324324\"\u001b[0m\u001b[1;33m\u001b[0m\u001b[1;33m\u001b[0m\u001b[0m\n\u001b[1;32m----> 3\u001b[1;33m \u001b[0mfloat_number\u001b[0m \u001b[1;33m=\u001b[0m \u001b[0mfloat\u001b[0m\u001b[1;33m(\u001b[0m\u001b[0mstring_to_float\u001b[0m\u001b[1;33m)\u001b[0m\u001b[1;33m\u001b[0m\u001b[1;33m\u001b[0m\u001b[0m\n\u001b[0m\u001b[0;32m      4\u001b[0m \u001b[0mfloat_number\u001b[0m\u001b[1;33m\u001b[0m\u001b[1;33m\u001b[0m\u001b[0m\n",
      "\u001b[1;31mValueError\u001b[0m: could not convert string to float: '3.14.324324'"
     ]
    }
   ],
   "source": [
    "# Hatalı Kod\n",
    "string_to_float = \"3.14.324324\"\n",
    "float_number = float(string_to_float)\n",
    "float_number"
   ]
  }
 ],
 "metadata": {
  "kernelspec": {
   "display_name": "Python 3",
   "language": "python",
   "name": "python3"
  },
  "language_info": {
   "codemirror_mode": {
    "name": "ipython",
    "version": 3
   },
   "file_extension": ".py",
   "mimetype": "text/x-python",
   "name": "python",
   "nbconvert_exporter": "python",
   "pygments_lexer": "ipython3",
   "version": "3.8.5"
  }
 },
 "nbformat": 4,
 "nbformat_minor": 5
}
