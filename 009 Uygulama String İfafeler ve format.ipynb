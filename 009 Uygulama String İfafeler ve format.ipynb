{
 "cells": [
  {
   "cell_type": "code",
   "execution_count": 1,
   "id": "interstate-radiation",
   "metadata": {},
   "outputs": [
    {
     "name": "stdout",
     "output_type": "stream",
     "text": [
      "\n",
      "Sayın Murat Uğur KİRAZ\n",
      "Şu anda sistemimizde ikamet adresiniz Kavaklı Mahallesi Aylık Caddesi Güliz Sokak No:48/3 İstanbul ve cep telefonunuz 0 547 789 99 99 olarak kayıtlıdır.\n",
      "\n",
      "Sayın Murat Uğur KİRAZ\n",
      "\n",
      "Eğer adresiniz Kavaklı Mahallesi Aylık Caddesi Güliz Sokak No:48/3 İstanbul değilse lütfen 0 212 258 88 88 numaralı telefonu arayınız.\n",
      "\n",
      "Eğer telefon numaranız 0 547 789 99 99 değilse 0 212 258 88 89 numaralı telefonu arayınız.\n",
      "\n",
      "Saygılarımızla.\n",
      "\n",
      "\n"
     ]
    }
   ],
   "source": [
    "ad_soyad=\"Murat Uğur KİRAZ\"\n",
    "adres=\"Kavaklı Mahallesi Aylık Caddesi Güliz Sokak No:48/3 İstanbul\"\n",
    "telefon=\"0 547 789 99 99\"\n",
    "\n",
    "print(\n",
    "\"\"\"\n",
    "Sayın {0}\n",
    "Şu anda sistemimizde ikamet adresiniz {1} ve cep telefonunuz {2} olarak kayıtlıdır.\n",
    "\n",
    "Sayın {0}\n",
    "\n",
    "Eğer adresiniz {1} değilse lütfen 0 212 258 88 88 numaralı telefonu arayınız.\n",
    "\n",
    "Eğer telefon numaranız {2} değilse 0 212 258 88 89 numaralı telefonu arayınız.\n",
    "\n",
    "Saygılarımızla.\n",
    "\n",
    "\"\"\".format(ad_soyad,adres,telefon)\n",
    "\n",
    ")"
   ]
  },
  {
   "cell_type": "code",
   "execution_count": null,
   "id": "coupled-jewelry",
   "metadata": {},
   "outputs": [],
   "source": []
  }
 ],
 "metadata": {
  "kernelspec": {
   "display_name": "Python 3",
   "language": "python",
   "name": "python3"
  },
  "language_info": {
   "codemirror_mode": {
    "name": "ipython",
    "version": 3
   },
   "file_extension": ".py",
   "mimetype": "text/x-python",
   "name": "python",
   "nbconvert_exporter": "python",
   "pygments_lexer": "ipython3",
   "version": "3.8.5"
  }
 },
 "nbformat": 4,
 "nbformat_minor": 5
}
