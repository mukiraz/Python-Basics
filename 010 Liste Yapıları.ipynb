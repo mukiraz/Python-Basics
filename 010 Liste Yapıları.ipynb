{
 "cells": [
  {
   "cell_type": "markdown",
   "id": "induced-hardware",
   "metadata": {},
   "source": [
    "# Liste yapısı (list)\n",
    "\n",
    "Liste yapısından bahsetmeden önce kısaca listelerden bahsedelim.\n",
    "\n",
    "Listeler yapıları gereği stringlere benzer. Daha önce stringlerin *karakter dizileri* olduğundan bahsetmiştik. Listeler içerisinde aynı ya da farklı veri tiplerini barındıran dizilerdir. Tıpkı stringler gibi ,indekslenirler,parçalanırlar ve üzerinde değişik işlemler yapabildiğimiz metodlar bulunur. Ancak listelerin stringlerden önemli farkları da bulunmaktadır. Stringler konusunda stringlerin n inci dizisindeki verisinin değiştirilemeyeceğini söylemiştik.. Ancak, listelerimiz değiştirilebilir bir veritipidir.\n",
    "\n",
    "Bir listede her veri tipinden elemanı saklayabiliriz. Bu anlamda sıralı bir diziye benzer.                                                                                                \n",
    "Birçok değerle çalışmak istediğinizde listeleri kullanmak kolaylıklar sağlar. Birbirine ait verileri bir arada tutmanıza, kodunuzu yoğunlaştırmanıza ve aynı yöntem ve işlemleri aynı anda birden çok değer üzerinde gerçekleştirmenize olanak tanır. \n",
    "\n",
    "e-postalarınızı, mp3 şarkılarınızı, adres defterinizi liste şeklinde tanımlayabilirsiniz.\n",
    "   \n",
    "### Liste Oluşturma\n",
    "\n",
    "Listeler bir *[]* köşeli parantez içine veriler veya değerler konarak oluşturulabilir."
   ]
  },
  {
   "cell_type": "code",
   "execution_count": 1,
   "id": "surgical-software",
   "metadata": {},
   "outputs": [],
   "source": [
    "deniz_canlılari = [\"Köpek Balığı\", \"Mürekkep Balığı\", \"Kalamar\", \"Karides\", \"Ahtapot\", \"Deniz Yıldızı\"]"
   ]
  },
  {
   "cell_type": "markdown",
   "id": "british-welsh",
   "metadata": {},
   "source": [
    "Bu listeyi ekrana yazdırmak istersek *print()* fonksiyonunu kullanırız."
   ]
  },
  {
   "cell_type": "code",
   "execution_count": 2,
   "id": "adverse-circulation",
   "metadata": {},
   "outputs": [
    {
     "name": "stdout",
     "output_type": "stream",
     "text": [
      "['Köpek Balığı', 'Mürekkep Balığı', 'Kalamar', 'Karides', 'Ahtapot', 'Deniz Yıldızı']\n"
     ]
    }
   ],
   "source": [
    "print(deniz_canlılari)"
   ]
  },
  {
   "cell_type": "markdown",
   "id": "stupid-standing",
   "metadata": {},
   "source": [
    "Bilgisayarda listeler ya da dizgeler indekslenirler. Yani her bir dizi elemanına bir numara atanır. Bu konuyu karakter dizilerinde (strings) görmüştük."
   ]
  },
  {
   "cell_type": "markdown",
   "id": "frozen-marketing",
   "metadata": {},
   "source": [
    "Listedeki her öğe, 0 dizin numarasından başlayarak bir tamsayı değeri olan bir sayıya karşılık gelir."
   ]
  },
  {
   "cell_type": "markdown",
   "id": "occupied-apollo",
   "metadata": {},
   "source": [
    "| Köpek Balığı | Mürekkep Balığı | Kalamar | Karides | Ahtapot | Deniz Yıldızı |\n",
    "|:-|:-|:-|:-|:-|:-|\n",
    "| 0 | 1 | 2 | 3 | 4 | 5 |"
   ]
  },
  {
   "cell_type": "markdown",
   "id": "atomic-deposit",
   "metadata": {},
   "source": [
    "Bir Python listesindeki her öğenin karşılık gelen bir dizin numarası olduğundan, diğer sıralı veri türleriyle yapabildiğimiz yollarla listelere erişebilir ve bunları değiştirebiliriz."
   ]
  },
  {
   "cell_type": "code",
   "execution_count": 3,
   "id": "standing-upset",
   "metadata": {},
   "outputs": [
    {
     "data": {
      "text/plain": [
       "'Mürekkep Balığı'"
      ]
     },
     "execution_count": 3,
     "metadata": {},
     "output_type": "execute_result"
    }
   ],
   "source": [
    "deniz_canlılari[1]"
   ]
  },
  {
   "cell_type": "code",
   "execution_count": 4,
   "id": "express-induction",
   "metadata": {},
   "outputs": [
    {
     "data": {
      "text/plain": [
       "'Deniz Yıldızı'"
      ]
     },
     "execution_count": 4,
     "metadata": {},
     "output_type": "execute_result"
    }
   ],
   "source": [
    "deniz_canlılari[5]"
   ]
  },
  {
   "cell_type": "markdown",
   "id": "genetic-minimum",
   "metadata": {},
   "source": [
    "Listeyi 5'ten büyük herhangi bir indeks numarasına sahip olarak çağırırsak, geçerli olmayacağı için hata verecektir."
   ]
  },
  {
   "cell_type": "code",
   "execution_count": 6,
   "id": "deadly-operator",
   "metadata": {},
   "outputs": [
    {
     "ename": "IndexError",
     "evalue": "list index out of range",
     "output_type": "error",
     "traceback": [
      "\u001b[1;31m---------------------------------------------------------------------------\u001b[0m",
      "\u001b[1;31mIndexError\u001b[0m                                Traceback (most recent call last)",
      "\u001b[1;32m<ipython-input-6-91c9efc20541>\u001b[0m in \u001b[0;36m<module>\u001b[1;34m\u001b[0m\n\u001b[0;32m      1\u001b[0m \u001b[1;31m# Hata\u001b[0m\u001b[1;33m\u001b[0m\u001b[1;33m\u001b[0m\u001b[1;33m\u001b[0m\u001b[0m\n\u001b[1;32m----> 2\u001b[1;33m \u001b[0mdeniz_canlılari\u001b[0m\u001b[1;33m[\u001b[0m\u001b[1;36m7\u001b[0m\u001b[1;33m]\u001b[0m\u001b[1;33m\u001b[0m\u001b[1;33m\u001b[0m\u001b[0m\n\u001b[0m",
      "\u001b[1;31mIndexError\u001b[0m: list index out of range"
     ]
    }
   ],
   "source": [
    "# Hata\n",
    "deniz_canlılari[7]"
   ]
  },
  {
   "cell_type": "markdown",
   "id": "ready-jefferson",
   "metadata": {},
   "source": [
    "Pozitif indeks numaralarına ek olarak, listedeki negatif indeks numaralı öğelerle, listenin sonundan geriye doğru sayarak da erişebiliriz. Burada -1 en son öğe olacaktır. Bu, özellikle uzun bir listemiz varsa ve bir öğeyi bir listenin sonuna doğru saptamak istiyorsak kullanışlıdır."
   ]
  },
  {
   "cell_type": "markdown",
   "id": "organizational-reflection",
   "metadata": {},
   "source": [
    "deniz_canlılari listesi için negatif endeks dökümü aşağıdaki gibi olacaktır:"
   ]
  },
  {
   "cell_type": "markdown",
   "id": "challenging-minutes",
   "metadata": {},
   "source": [
    "| Köpek Balığı | Mürekkep Balığı | Kalamar | Karides | Ahtapot | Deniz Yıldızı |\n",
    "|:-|:-|:-|:-|:-|:-|\n",
    "| -6 | -5 | -4 | -3 | -2 | -1 |"
   ]
  },
  {
   "cell_type": "code",
   "execution_count": 7,
   "id": "electric-stroke",
   "metadata": {},
   "outputs": [
    {
     "data": {
      "text/plain": [
       "'Mürekkep Balığı'"
      ]
     },
     "execution_count": 7,
     "metadata": {},
     "output_type": "execute_result"
    }
   ],
   "source": [
    "# Örneğin\n",
    "deniz_canlılari[-5]"
   ]
  },
  {
   "cell_type": "markdown",
   "id": "dedicated-appointment",
   "metadata": {},
   "source": [
    "### Örnek listeler"
   ]
  },
  {
   "cell_type": "code",
   "execution_count": 8,
   "id": "incorporated-heaven",
   "metadata": {},
   "outputs": [
    {
     "data": {
      "text/plain": [
       "[3, 4, 5, 6, 'Elma', 3.14, 5.324]"
      ]
     },
     "execution_count": 8,
     "metadata": {},
     "output_type": "execute_result"
    }
   ],
   "source": [
    "liste =  [3,4,5,6,\"Elma\",3.14,5.324]\n",
    "liste"
   ]
  },
  {
   "cell_type": "code",
   "execution_count": 9,
   "id": "sized-harassment",
   "metadata": {},
   "outputs": [
    {
     "data": {
      "text/plain": [
       "[(3+4j), 4.5, 5, 6, 'Elma', 3.14, 5.324]"
      ]
     },
     "execution_count": 9,
     "metadata": {},
     "output_type": "execute_result"
    }
   ],
   "source": [
    "liste =  [complex(3,4),4.5,5,6,\"Elma\",3.14,5.324]\n",
    "liste"
   ]
  },
  {
   "cell_type": "code",
   "execution_count": 11,
   "id": "round-bulgarian",
   "metadata": {},
   "outputs": [
    {
     "data": {
      "text/plain": [
       "[(3-4j), 4.5, 5, 6, 'Elma', 3.14, 5.324]"
      ]
     },
     "execution_count": 11,
     "metadata": {},
     "output_type": "execute_result"
    }
   ],
   "source": [
    "liste =  [complex(3,4).conjugate(),4.5,5,6,\"Elma\",3.14,5.324]\n",
    "liste"
   ]
  },
  {
   "cell_type": "code",
   "execution_count": null,
   "id": "macro-classics",
   "metadata": {},
   "outputs": [],
   "source": []
  }
 ],
 "metadata": {
  "kernelspec": {
   "display_name": "Python 3",
   "language": "python",
   "name": "python3"
  },
  "language_info": {
   "codemirror_mode": {
    "name": "ipython",
    "version": 3
   },
   "file_extension": ".py",
   "mimetype": "text/x-python",
   "name": "python",
   "nbconvert_exporter": "python",
   "pygments_lexer": "ipython3",
   "version": "3.8.5"
  }
 },
 "nbformat": 4,
 "nbformat_minor": 5
}
