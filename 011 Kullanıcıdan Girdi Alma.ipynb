{
 "cells": [
  {
   "cell_type": "markdown",
   "id": "metallic-machine",
   "metadata": {},
   "source": [
    "# Kullanıcıdan Girdi Alma - input() Fonksiyonu\n",
    "\n",
    "Programlama yaparken kullanıcıdan girdi gerekebilir. Pythonda kullanıcıdan girdi almamızı sağlayan *input()* fonksiyonu bulunmaktadır."
   ]
  },
  {
   "cell_type": "markdown",
   "id": "continent-truth",
   "metadata": {},
   "source": [
    "### input() fonksiyonu kullanımı\n",
    "\n",
    "input() fonksiyonunu Çalıtırdığımız zaman input fonksiyonu bizden bir girdi bekler."
   ]
  },
  {
   "cell_type": "code",
   "execution_count": 1,
   "id": "nervous-struggle",
   "metadata": {},
   "outputs": [
    {
     "name": "stdout",
     "output_type": "stream",
     "text": [
      "5\n"
     ]
    },
    {
     "data": {
      "text/plain": [
       "'5'"
      ]
     },
     "execution_count": 1,
     "metadata": {},
     "output_type": "execute_result"
    }
   ],
   "source": [
    "input()"
   ]
  },
  {
   "cell_type": "markdown",
   "id": "preceding-flour",
   "metadata": {},
   "source": [
    "Eğer istersek input() fonksiyonun içine bir değer de gönderebiliriz."
   ]
  },
  {
   "cell_type": "code",
   "execution_count": 2,
   "id": "alleged-hindu",
   "metadata": {},
   "outputs": [
    {
     "name": "stdout",
     "output_type": "stream",
     "text": [
      "Bir tam sayı giriniz:2\n"
     ]
    },
    {
     "data": {
      "text/plain": [
       "'2'"
      ]
     },
     "execution_count": 2,
     "metadata": {},
     "output_type": "execute_result"
    }
   ],
   "source": [
    "input(\"Bir tam sayı giriniz:\")"
   ]
  },
  {
   "cell_type": "markdown",
   "id": "effective-woman",
   "metadata": {},
   "source": [
    "Kullanıcıdan input() fonksiyonu yoluyla aldığımız değeri bir değişkene aktarabiliriz."
   ]
  },
  {
   "cell_type": "code",
   "execution_count": 3,
   "id": "standard-trail",
   "metadata": {},
   "outputs": [
    {
     "name": "stdout",
     "output_type": "stream",
     "text": [
      "Bir tam sayı giriniz:5\n",
      "5\n"
     ]
    }
   ],
   "source": [
    "tam_sayi=input(\"Bir tam sayı giriniz:\")\n",
    "print(tam_sayi)"
   ]
  },
  {
   "cell_type": "markdown",
   "id": "modular-somerset",
   "metadata": {},
   "source": [
    "**NOT:** Kullanıcıdan aldığımız değer *string* veri tipindedir. Eğer ondalıklı sayı veya tamsayı kullanmak istiyorsak, veri tipi dönüştürme işlemi uygulamalıyız."
   ]
  },
  {
   "cell_type": "code",
   "execution_count": 5,
   "id": "brief-capture",
   "metadata": {},
   "outputs": [
    {
     "name": "stdout",
     "output_type": "stream",
     "text": [
      "Bir tam sayı giriniz:5\n",
      "555\n"
     ]
    }
   ],
   "source": [
    "#Örnek\n",
    "tam_sayi=input(\"Bir tam sayı giriniz:\")\n",
    "print(tam_sayi*3)"
   ]
  },
  {
   "cell_type": "code",
   "execution_count": 7,
   "id": "inappropriate-approval",
   "metadata": {},
   "outputs": [
    {
     "name": "stdout",
     "output_type": "stream",
     "text": [
      "Bir tam sayı giriniz:5\n",
      "15\n"
     ]
    }
   ],
   "source": [
    "#Örnek\n",
    "tam_sayi=input(\"Bir tam sayı giriniz:\")\n",
    "tam_sayi=int(tam_sayi)\n",
    "print(tam_sayi*3)"
   ]
  },
  {
   "cell_type": "code",
   "execution_count": 9,
   "id": "checked-fisher",
   "metadata": {},
   "outputs": [
    {
     "name": "stdout",
     "output_type": "stream",
     "text": [
      "Bir ondalıklı sayı giriniz:3.5\n",
      "10.5\n"
     ]
    }
   ],
   "source": [
    "#Örnek\n",
    "ondalikli_sayi=input(\"Bir ondalıklı sayı giriniz:\")\n",
    "ondalikli_sayi=float(ondalikli_sayi)\n",
    "print(ondalikli_sayi*3)"
   ]
  },
  {
   "cell_type": "code",
   "execution_count": 10,
   "id": "lucky-township",
   "metadata": {},
   "outputs": [
    {
     "name": "stdout",
     "output_type": "stream",
     "text": [
      "Birinci Sayı:3\n",
      "İkinci Sayı:5\n",
      "Üçüncü Sayı:6\n",
      "Toplamları: 14\n"
     ]
    }
   ],
   "source": [
    "#Örnek\n",
    "birinci_sayi = int(input(\"Birinci Sayı:\"))\n",
    "ikinci_sayi = int(input(\"İkinci Sayı:\"))\n",
    "ucuncu_sayi = int(input(\"Üçüncü Sayı:\"))\n",
    "\n",
    "print(\"Toplamları:\",birinci_sayi+ikinci_sayi+ucuncu_sayi)"
   ]
  },
  {
   "cell_type": "markdown",
   "id": "handy-future",
   "metadata": {},
   "source": [
    "Peki kullanıcı eğer yanlış değer girerse ne olacak ?\n"
   ]
  },
  {
   "cell_type": "code",
   "execution_count": 11,
   "id": "chemical-tract",
   "metadata": {},
   "outputs": [
    {
     "name": "stdout",
     "output_type": "stream",
     "text": [
      "Birinci Sayı:kl\n"
     ]
    },
    {
     "ename": "ValueError",
     "evalue": "invalid literal for int() with base 10: 'kl'",
     "output_type": "error",
     "traceback": [
      "\u001b[1;31m---------------------------------------------------------------------------\u001b[0m",
      "\u001b[1;31mValueError\u001b[0m                                Traceback (most recent call last)",
      "\u001b[1;32m<ipython-input-11-63afb6537c63>\u001b[0m in \u001b[0;36m<module>\u001b[1;34m\u001b[0m\n\u001b[1;32m----> 1\u001b[1;33m \u001b[0mbirinci_sayi\u001b[0m \u001b[1;33m=\u001b[0m \u001b[0mint\u001b[0m\u001b[1;33m(\u001b[0m\u001b[0minput\u001b[0m\u001b[1;33m(\u001b[0m\u001b[1;34m\"Birinci Sayı:\"\u001b[0m\u001b[1;33m)\u001b[0m\u001b[1;33m)\u001b[0m\u001b[1;33m\u001b[0m\u001b[1;33m\u001b[0m\u001b[0m\n\u001b[0m",
      "\u001b[1;31mValueError\u001b[0m: invalid literal for int() with base 10: 'kl'"
     ]
    }
   ],
   "source": [
    "birinci_sayi = int(input(\"Birinci Sayı:\"))"
   ]
  },
  {
   "cell_type": "markdown",
   "id": "reported-panic",
   "metadata": {},
   "source": [
    "Böyle sorunları nasıl çözeceğimizi \"Hatalar ve İstisnalar\" bölümünde öğreneceğiz."
   ]
  },
  {
   "cell_type": "code",
   "execution_count": null,
   "id": "mental-tissue",
   "metadata": {},
   "outputs": [],
   "source": []
  }
 ],
 "metadata": {
  "kernelspec": {
   "display_name": "Python 3",
   "language": "python",
   "name": "python3"
  },
  "language_info": {
   "codemirror_mode": {
    "name": "ipython",
    "version": 3
   },
   "file_extension": ".py",
   "mimetype": "text/x-python",
   "name": "python",
   "nbconvert_exporter": "python",
   "pygments_lexer": "ipython3",
   "version": "3.8.5"
  }
 },
 "nbformat": 4,
 "nbformat_minor": 5
}
