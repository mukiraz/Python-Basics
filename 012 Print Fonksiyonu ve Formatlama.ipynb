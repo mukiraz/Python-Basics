{
 "cells": [
  {
   "cell_type": "markdown",
   "id": "nutritional-sixth",
   "metadata": {},
   "source": [
    "# Print Fonksiyonu ve Formatlama\n",
    "\n",
    "Bu bölümde ekrana veri tiplerini yazdırmak için kullandığımız *print()* fonksiyonunu ve formatlama yöntemlerini öğreneceğiz.\n",
    "\n",
    "### Print() Fonksiyonu\n",
    "\n",
    "Kodlarımızı dosyalara yazdığımızda, eğer ekrana bir değer bastırmak istersek *print* fonksiyonunu kullanırız. Kullanımı oldukça basittir ve değişik özelliklere sahiptir."
   ]
  },
  {
   "cell_type": "code",
   "execution_count": 1,
   "id": "acting-breath",
   "metadata": {},
   "outputs": [
    {
     "name": "stdout",
     "output_type": "stream",
     "text": [
      "45\n"
     ]
    }
   ],
   "source": [
    "print(45)"
   ]
  },
  {
   "cell_type": "code",
   "execution_count": 2,
   "id": "congressional-strength",
   "metadata": {},
   "outputs": [
    {
     "name": "stdout",
     "output_type": "stream",
     "text": [
      "3.14\n"
     ]
    }
   ],
   "source": [
    "print(3.14)"
   ]
  },
  {
   "cell_type": "code",
   "execution_count": 3,
   "id": "noble-custom",
   "metadata": {},
   "outputs": [
    {
     "name": "stdout",
     "output_type": "stream",
     "text": [
      "19\n"
     ]
    }
   ],
   "source": [
    "a = 4\n",
    "b = 15\n",
    "print(a+b)"
   ]
  },
  {
   "cell_type": "code",
   "execution_count": 4,
   "id": "simple-weather",
   "metadata": {},
   "outputs": [
    {
     "name": "stdout",
     "output_type": "stream",
     "text": [
      "Murat Uğur KİRAZ\n"
     ]
    }
   ],
   "source": [
    "print(\"Murat Uğur KİRAZ\")"
   ]
  },
  {
   "cell_type": "code",
   "execution_count": 5,
   "id": "threaded-rochester",
   "metadata": {},
   "outputs": [
    {
     "name": "stdout",
     "output_type": "stream",
     "text": [
      "Hasan'ın bugün dersi var.\n"
     ]
    }
   ],
   "source": [
    "print(\"Hasan'ın bugün dersi var.\")"
   ]
  },
  {
   "cell_type": "code",
   "execution_count": 7,
   "id": "dirty-military",
   "metadata": {},
   "outputs": [
    {
     "name": "stdout",
     "output_type": "stream",
     "text": [
      "Murat Uğur KİRAZ\n"
     ]
    }
   ],
   "source": [
    "print(\"Murat\",\"Uğur\",\"KİRAZ\")"
   ]
  },
  {
   "cell_type": "code",
   "execution_count": 8,
   "id": "ongoing-mouse",
   "metadata": {},
   "outputs": [
    {
     "name": "stdout",
     "output_type": "stream",
     "text": [
      "Murat 12 545 66767 3.56\n"
     ]
    }
   ],
   "source": [
    "print(\"Murat\",12,545,66767,3.56)"
   ]
  },
  {
   "cell_type": "markdown",
   "id": "interior-denver",
   "metadata": {},
   "source": [
    "### Stringlerdeki Özel Karakterler\n",
    "Pythonda stringlerde kullanılan özel karakterler mevcuttur ve kullanıldıkları yerler de işlerimizi kolaylaştırır. En çok kullanılan 2 tanesi şunlardır;\n",
    "\n",
    "##### \\n karakteri\n",
    "\n",
    "Eğer *print()* fonksiyonu stringlerde böyle bir karakterle karşılaşırsa alt satırdan ekrana yazdırma işlemine devam eder."
   ]
  },
  {
   "cell_type": "code",
   "execution_count": 9,
   "id": "acting-journey",
   "metadata": {},
   "outputs": [
    {
     "name": "stdout",
     "output_type": "stream",
     "text": [
      "Merhaba\n",
      "Nasılsın\n",
      "İyi misin\n"
     ]
    }
   ],
   "source": [
    "print(\"Merhaba\\nNasılsın\\nİyi misin\")"
   ]
  },
  {
   "cell_type": "markdown",
   "id": "renewable-tiger",
   "metadata": {},
   "source": [
    "#### \\t karakteri\n",
    "\n",
    "Eğer *print()* fonksiyonu stringlerde böyle bir karakterle karşılaşırsa bir tab boşluk bırakarak ekrana yazdırma işlemine devam eder. Hemen örneklerimize bakalım."
   ]
  },
  {
   "cell_type": "code",
   "execution_count": 10,
   "id": "naughty-biodiversity",
   "metadata": {},
   "outputs": [
    {
     "name": "stdout",
     "output_type": "stream",
     "text": [
      "Ocak\tMart\tŞubat\n"
     ]
    }
   ],
   "source": [
    "print(\"Ocak\\tMart\\tŞubat\")"
   ]
  },
  {
   "cell_type": "markdown",
   "id": "sunset-stranger",
   "metadata": {},
   "source": [
    "### Print() Fonksiyonunun Parametreleri\n",
    "\n",
    "Ekrana yazdırma işlemlerimiz sırasında *print()* fonksiyonunun bazı özelliklerini kullanabiliriz. Bunun için burada 2 tane özellikten bahsedeceğiz.\n",
    "\n",
    "#### sep parametresi\n",
    "\n",
    "*print()* fonksiyonunda kullanılabilen sep parametresi yazdırdığımız değerlerin arasına istediğimiz karakterlerin yerleştirilmesini sağlar. Eğer bu parametreyi kullanmazsak değerlerin arasına varsayılan olarak boşluk yerleştirildiğini görmüştük.\n"
   ]
  },
  {
   "cell_type": "code",
   "execution_count": 11,
   "id": "antique-network",
   "metadata": {},
   "outputs": [
    {
     "name": "stdout",
     "output_type": "stream",
     "text": [
      "3 4 5 6 7 8 9\n"
     ]
    }
   ],
   "source": [
    "print(3,4,5,6,7,8,9)"
   ]
  },
  {
   "cell_type": "code",
   "execution_count": 12,
   "id": "hispanic-paper",
   "metadata": {},
   "outputs": [
    {
     "name": "stdout",
     "output_type": "stream",
     "text": [
      "3.4.5.6.7.8.9\n"
     ]
    }
   ],
   "source": [
    "print(3,4,5,6,7,8,9,sep = \".\")\n"
   ]
  },
  {
   "cell_type": "code",
   "execution_count": 13,
   "id": "subjective-argument",
   "metadata": {},
   "outputs": [
    {
     "name": "stdout",
     "output_type": "stream",
     "text": [
      "18/04/2021\n"
     ]
    }
   ],
   "source": [
    "print(\"18\",\"04\",\"2021\",sep = \"/\")"
   ]
  },
  {
   "cell_type": "code",
   "execution_count": 14,
   "id": "electronic-medicine",
   "metadata": {},
   "outputs": [
    {
     "name": "stdout",
     "output_type": "stream",
     "text": [
      "Murat\n",
      "Uğur\n",
      "KİRAZ\n"
     ]
    }
   ],
   "source": [
    "print(\"Murat\",\"Uğur\",\"KİRAZ\",sep = \"\\n\")"
   ]
  },
  {
   "cell_type": "markdown",
   "id": "south-terry",
   "metadata": {},
   "source": [
    "#### Yıldızlı Parametreler\n",
    "Eğer bir stringin başına * işareti koyup, print fonksiyonuna gönderirsek bu string karakterlerine ayrılacak ve her bir karakter ayrı birer string olarak davranılarak ekrana basılacaktır."
   ]
  },
  {
   "cell_type": "code",
   "execution_count": 15,
   "id": "legitimate-processor",
   "metadata": {},
   "outputs": [
    {
     "name": "stdout",
     "output_type": "stream",
     "text": [
      "P y t h o n\n"
     ]
    }
   ],
   "source": [
    "# Varsayılan olarak karakterlerin arasına boşluk konulur.\n",
    "print(*\"Python\")"
   ]
  },
  {
   "cell_type": "code",
   "execution_count": 16,
   "id": "tight-means",
   "metadata": {},
   "outputs": [
    {
     "name": "stdout",
     "output_type": "stream",
     "text": [
      "P\n",
      "y\n",
      "t\n",
      "h\n",
      "o\n",
      "n\n"
     ]
    }
   ],
   "source": [
    "print(*\"Python\",sep = \"\\n\")"
   ]
  },
  {
   "cell_type": "code",
   "execution_count": 17,
   "id": "manufactured-allergy",
   "metadata": {},
   "outputs": [
    {
     "name": "stdout",
     "output_type": "stream",
     "text": [
      "T.C.M.B\n"
     ]
    }
   ],
   "source": [
    "print(*\"TCMB\",sep =\".\")"
   ]
  },
  {
   "cell_type": "markdown",
   "id": "precise-payment",
   "metadata": {},
   "source": [
    "## Formatlama\n",
    "\n",
    "Programlama yaparken bazı yerlerde bir stringin içinde daha önceden tanımlı string,float, int vs. değerleri yerleştirmek isteyebiliriz. Böyle durumlar için Pythonda *format()* fonksiyonu bulunmaktadır. Örneğin, programımızda 3 tane tamsayı değerimiz var ve biz bunları bir string içinde ekrana basmak istiyoruz. Bunun için *format()* fonksiyonunu kullanabiliriz. *format()* fonksiyonunun çok fazla özelliği olduğu için, ben burada sadece en çok kullandığımız özelliğini göstereceğim."
   ]
  },
  {
   "cell_type": "code",
   "execution_count": 18,
   "id": "latin-founder",
   "metadata": {},
   "outputs": [
    {
     "data": {
      "text/plain": [
       "'3.1423 5.324 7.324324'"
      ]
     },
     "execution_count": 18,
     "metadata": {},
     "output_type": "execute_result"
    }
   ],
   "source": [
    "\"{} {} {}\".format(3.1423,5.324,7.324324)"
   ]
  },
  {
   "cell_type": "code",
   "execution_count": 19,
   "id": "subtle-coaching",
   "metadata": {},
   "outputs": [
    {
     "name": "stdout",
     "output_type": "stream",
     "text": [
      "3 + 4 'nin toplamı 7 'dır\n"
     ]
    }
   ],
   "source": [
    "birinci_sayi = 3\n",
    "ikinci_sayi = 4\n",
    "print(\"{} + {} 'nin toplamı {} 'dır\".format(birinci_sayi,ikinci_sayi,birinci_sayi+ikinci_sayi))"
   ]
  },
  {
   "cell_type": "code",
   "execution_count": 21,
   "id": "saved-clearance",
   "metadata": {},
   "outputs": [
    {
     "data": {
      "text/plain": [
       "'Murat Uğur KİRAZ'"
      ]
     },
     "execution_count": 21,
     "metadata": {},
     "output_type": "execute_result"
    }
   ],
   "source": [
    "# Süslü parantezlerin içindeki sayılar format fonksiyonun içinden hangi sıradaki değerin geleceğini söyler.\n",
    "\"{1} {0} {2}\".format(\"Uğur\",\"Murat\",\"KİRAZ\")"
   ]
  },
  {
   "cell_type": "code",
   "execution_count": 22,
   "id": "intelligent-union",
   "metadata": {},
   "outputs": [
    {
     "data": {
      "text/plain": [
       "'3.15 5.32 7.324'"
      ]
     },
     "execution_count": 22,
     "metadata": {},
     "output_type": "execute_result"
    }
   ],
   "source": [
    "# Süslü parantezlerin içindeki kullanım ondalıklı kısmın sadece 2 basamağına kadar almak istediğimiz söylüyor.\n",
    "\"{:.2f} {:.2f} {:.3f}\".format(3.1463,5.324,7.324324)"
   ]
  },
  {
   "cell_type": "code",
   "execution_count": null,
   "id": "metropolitan-chuck",
   "metadata": {},
   "outputs": [],
   "source": []
  }
 ],
 "metadata": {
  "kernelspec": {
   "display_name": "Python 3",
   "language": "python",
   "name": "python3"
  },
  "language_info": {
   "codemirror_mode": {
    "name": "ipython",
    "version": 3
   },
   "file_extension": ".py",
   "mimetype": "text/x-python",
   "name": "python",
   "nbconvert_exporter": "python",
   "pygments_lexer": "ipython3",
   "version": "3.8.5"
  }
 },
 "nbformat": 4,
 "nbformat_minor": 5
}
