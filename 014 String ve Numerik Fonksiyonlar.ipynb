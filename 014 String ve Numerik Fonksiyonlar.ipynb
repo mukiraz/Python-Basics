{
 "cells": [
  {
   "cell_type": "markdown",
   "id": "insured-awareness",
   "metadata": {},
   "source": [
    "# String ve Numerik Fonksiyonlar"
   ]
  },
  {
   "cell_type": "markdown",
   "id": "verified-southwest",
   "metadata": {},
   "source": [
    "## String Fonksiyonlar"
   ]
  },
  {
   "cell_type": "markdown",
   "id": "qualified-complex",
   "metadata": {},
   "source": [
    "Şu anda metodlar ve fonksiyonları görmedik. Fakat pythonda kullanılan ve string yani karakter dizilerinde işlem yapmamıza olanak tanıyan fonksiyonları tanımamız yerinde olacaktır.\n",
    "\n",
    "Örneğin string bir ifadenin harflerini büyütmek isteyebiliriz. Ya da belirli bir harf dizisinin yine belirli bir string ifade içinde olup olmadığını öğrenmek isteyebilirz. Bu gibi durumlarda aşağıdaki fonksiyonlar kullanılır.\n",
    "\n",
    "Bunun gibi işlemleri yapmak için bir çok fonksiyon bulunmaktadır. Bu fonksiyonlara https://docs.python.org/2.5/lib/string-methods.html sayfasından erişebilirsiniz. Şimdi sizinle bu fonksiyonlardan bazılarını inceleyelim.\n"
   ]
  },
  {
   "cell_type": "markdown",
   "id": "partial-anger",
   "metadata": {},
   "source": [
    "### capitalize(\t)"
   ]
  },
  {
   "cell_type": "markdown",
   "id": "raising-means",
   "metadata": {},
   "source": [
    "Dizenin yalnızca ilk karakteri büyük harfle yazılmış bir kopyasını döndürür."
   ]
  },
  {
   "cell_type": "code",
   "execution_count": 3,
   "id": "protected-domain",
   "metadata": {},
   "outputs": [
    {
     "name": "stdout",
     "output_type": "stream",
     "text": [
      "Bu bir string ifadedir\n",
      "36 benim yaşımdır\n"
     ]
    }
   ],
   "source": [
    "string=\"bu bir string ifadedir\"\n",
    "string2=\"36 benim yaşımdır\"\n",
    "\n",
    "print(string.capitalize())\n",
    "print(string2.capitalize())\n"
   ]
  },
  {
   "cell_type": "markdown",
   "id": "innovative-caution",
   "metadata": {},
   "source": [
    "### count(\tsub[, start[, end]])"
   ]
  },
  {
   "cell_type": "markdown",
   "id": "mechanical-nation",
   "metadata": {},
   "source": [
    "S dizesindeki alt dize altının oluşum sayısını döndür . İsteğe bağlı bağımsız değişkenler başlangıç ve bitiş dilim gösteriminde olduğu gibi yorumlanır. [start:end]"
   ]
  },
  {
   "cell_type": "code",
   "execution_count": 4,
   "id": "civic-representation",
   "metadata": {},
   "outputs": [
    {
     "name": "stdout",
     "output_type": "stream",
     "text": [
      "2\n",
      "2\n"
     ]
    }
   ],
   "source": [
    "txt = \"elmaları çok severim, elmalar diğer meyveler arasında en sevdiğim meyvedir.\"\n",
    "\n",
    "apple = txt.count(\"elma\")\n",
    "fruit=txt.count(\"meyve\")\n",
    "\n",
    "print(apple)\n",
    "print(fruit)"
   ]
  },
  {
   "cell_type": "markdown",
   "id": "impressive-pressure",
   "metadata": {},
   "source": [
    "### find(sub[,start[,end]])"
   ]
  },
  {
   "cell_type": "markdown",
   "id": "israeli-rouge",
   "metadata": {},
   "source": [
    "Bir alt ifadenin (sub) string bir ifadenin içerisindeki değerini döndürür.İsteğe bağlı bağımsız değişkenler başlangıç ve bitiş dilim gösteriminde olduğu gibi yorumlanır. Alt ifade bulunmazsa -1 değerini döner."
   ]
  },
  {
   "cell_type": "code",
   "execution_count": 10,
   "id": "fluid-original",
   "metadata": {},
   "outputs": [
    {
     "name": "stdout",
     "output_type": "stream",
     "text": [
      "0\n",
      "4\n",
      "9\n",
      "30\n",
      "17\n",
      "-1\n"
     ]
    }
   ],
   "source": [
    "txt = \"Merhaba, dünyama hoş geldiniz.\"\n",
    "\n",
    "print(txt.find(\"Merhaba\"))\n",
    "print(txt.find(\"aba\"))\n",
    "print(txt.find(\"dünyama\"))\n",
    "print(txt.find(\"hoş\",5,29))\n",
    "print(txt.find(\"elma\"))\n"
   ]
  },
  {
   "cell_type": "markdown",
   "id": "muslim-isaac",
   "metadata": {},
   "source": [
    "### index(sub[,start[,end]])"
   ]
  },
  {
   "cell_type": "markdown",
   "id": "legitimate-focus",
   "metadata": {},
   "source": [
    "find() fonksiyonu ile aynı görevi yapar. Yalnız alt stringi bulamadığı zaman - yerine hata kodu fırlatır."
   ]
  },
  {
   "cell_type": "code",
   "execution_count": 11,
   "id": "incident-vegetation",
   "metadata": {},
   "outputs": [
    {
     "name": "stdout",
     "output_type": "stream",
     "text": [
      "0\n",
      "4\n",
      "9\n",
      "17\n"
     ]
    },
    {
     "ename": "ValueError",
     "evalue": "substring not found",
     "output_type": "error",
     "traceback": [
      "\u001b[1;31m---------------------------------------------------------------------------\u001b[0m",
      "\u001b[1;31mValueError\u001b[0m                                Traceback (most recent call last)",
      "\u001b[1;32m<ipython-input-11-a1e45ce8b27a>\u001b[0m in \u001b[0;36m<module>\u001b[1;34m\u001b[0m\n\u001b[0;32m      5\u001b[0m \u001b[0mprint\u001b[0m\u001b[1;33m(\u001b[0m\u001b[0mtxt\u001b[0m\u001b[1;33m.\u001b[0m\u001b[0mindex\u001b[0m\u001b[1;33m(\u001b[0m\u001b[1;34m\"dünyama\"\u001b[0m\u001b[1;33m)\u001b[0m\u001b[1;33m)\u001b[0m\u001b[1;33m\u001b[0m\u001b[1;33m\u001b[0m\u001b[0m\n\u001b[0;32m      6\u001b[0m \u001b[0mprint\u001b[0m\u001b[1;33m(\u001b[0m\u001b[0mtxt\u001b[0m\u001b[1;33m.\u001b[0m\u001b[0mindex\u001b[0m\u001b[1;33m(\u001b[0m\u001b[1;34m\"hoş\"\u001b[0m\u001b[1;33m,\u001b[0m\u001b[1;36m5\u001b[0m\u001b[1;33m,\u001b[0m\u001b[1;36m29\u001b[0m\u001b[1;33m)\u001b[0m\u001b[1;33m)\u001b[0m\u001b[1;33m\u001b[0m\u001b[1;33m\u001b[0m\u001b[0m\n\u001b[1;32m----> 7\u001b[1;33m \u001b[0mprint\u001b[0m\u001b[1;33m(\u001b[0m\u001b[0mtxt\u001b[0m\u001b[1;33m.\u001b[0m\u001b[0mindex\u001b[0m\u001b[1;33m(\u001b[0m\u001b[1;34m\"elma\"\u001b[0m\u001b[1;33m)\u001b[0m\u001b[1;33m)\u001b[0m\u001b[1;33m\u001b[0m\u001b[1;33m\u001b[0m\u001b[0m\n\u001b[0m",
      "\u001b[1;31mValueError\u001b[0m: substring not found"
     ]
    }
   ],
   "source": [
    "txt = \"Merhaba, dünyama hoş geldiniz.\"\n",
    "\n",
    "print(txt.index(\"Merhaba\"))\n",
    "print(txt.index(\"aba\"))\n",
    "print(txt.index(\"dünyama\"))\n",
    "print(txt.index(\"hoş\",5,29))\n",
    "print(txt.index(\"elma\"))"
   ]
  },
  {
   "cell_type": "markdown",
   "id": "killing-parent",
   "metadata": {},
   "source": [
    "### isalnum()"
   ]
  },
  {
   "cell_type": "markdown",
   "id": "alert-grace",
   "metadata": {},
   "source": [
    "**Alfanumerik kavramı:** A ile Z arasındaki harfler ile 0 – 9 arasındaki rakamları kapsayan karakter topluluğudur. Alfanümerik karakter kümeleri ayrıca bazı noktalama işaretlerini de bu karakter topluluğunun içerisinde kabul edebilmektedir. Alfanümerik karakter kümeleriyle oluşturulan veriler metinleri ve web  sitelerini depolama açısından oldukça kullanışlıdır.Daha yüksek ve arttırılmış güvenlik önlemleri için birçok bilgisayar sistemi, ve giriş sistemi seçilecek parolanın içerisinde sadece harfler veya sadece rakamlar yerine alfanümerik karakterler kullanmayı daha doğru bulur. "
   ]
  },
  {
   "cell_type": "code",
   "execution_count": 25,
   "id": "helpful-tuner",
   "metadata": {},
   "outputs": [
    {
     "name": "stdout",
     "output_type": "stream",
     "text": [
      "Parolanızı Giriniz:3213213f1ghfghghg\n",
      "True\n"
     ]
    }
   ],
   "source": [
    "\"\"\"\n",
    "Örneğin kullanıcılardan parola girmesini istiyoruz. ve bu parolanın özel karakterler ( boşluk ) vs içermemesini yani\n",
    "alfanumerik olmasını istiyoruz.\n",
    "Doğru ya da yanlış değer döndüren kod aşağıdadır.\n",
    "\n",
    "\"\"\"\n",
    "parola=input(\"Parolanızı Giriniz:\")\n",
    "sonuc=parola.isalnum()\n",
    "\n",
    "print(sonuc)"
   ]
  },
  {
   "cell_type": "markdown",
   "id": "expired-express",
   "metadata": {},
   "source": [
    "### isalpha()"
   ]
  },
  {
   "cell_type": "markdown",
   "id": "higher-organic",
   "metadata": {},
   "source": [
    "Dizedeki tüm karakterler alfabetikse ve en az bir karakter varsa true, aksi takdirde false döndürür."
   ]
  },
  {
   "cell_type": "code",
   "execution_count": 27,
   "id": "corporate-cabinet",
   "metadata": {},
   "outputs": [
    {
     "name": "stdout",
     "output_type": "stream",
     "text": [
      "İsminizi Giriniz:12kk\n",
      "False\n"
     ]
    }
   ],
   "source": [
    "\"\"\"\n",
    "Kişinin isim ve soyisim bilgisini isteyelim.\n",
    "İsim ve soy isim bilgisinde rakam varsa bize false değeri döndüren, yoksa true değeri döndüren kodumuzu yazalım.\n",
    "\n",
    "\"\"\"\n",
    "isim=input(\"İsminizi Giriniz:\")\n",
    "sonuc=isim.isalpha()\n",
    "\n",
    "print(sonuc)"
   ]
  },
  {
   "cell_type": "markdown",
   "id": "confused-discovery",
   "metadata": {},
   "source": [
    "### isdigit()"
   ]
  },
  {
   "cell_type": "markdown",
   "id": "sunset-twins",
   "metadata": {},
   "source": [
    "Dizedeki tüm karakterler rakamsa ve en az bir karakter varsa true, aksi takdirde false döndürür."
   ]
  },
  {
   "cell_type": "code",
   "execution_count": 30,
   "id": "colored-source",
   "metadata": {},
   "outputs": [
    {
     "name": "stdout",
     "output_type": "stream",
     "text": [
      "TC Kimlik Numaranızı Giriniz:kjfdkgdf44\n",
      "False\n"
     ]
    }
   ],
   "source": [
    "\"\"\"\n",
    "Örneğin,\n",
    "Kişinin TC Kimlik Numarasını isteyelim.\n",
    "TC Kİmlik numarası rakamlardan oluşmalıdır. Girilen string değer rakamlardan oluşmuyorsa eğer, false, \n",
    "girilen string değer rakamlardan oluşuyorsa true değerini döndüren kodumuzu yazalım.\n",
    "\n",
    "\"\"\"\n",
    "TC_Kimlik_No=input(\"TC Kimlik Numaranızı Giriniz:\")\n",
    "sonuc=TC_Kimlik_No.isdigit()\n",
    "\n",
    "print(sonuc)"
   ]
  },
  {
   "cell_type": "markdown",
   "id": "shared-remainder",
   "metadata": {},
   "source": [
    "### isspace()"
   ]
  },
  {
   "cell_type": "markdown",
   "id": "loaded-cooking",
   "metadata": {},
   "source": [
    "Dizede yalnızca boşluk karakterleri varsa ve en az bir karakter varsa true, aksi takdirde false döndürür."
   ]
  },
  {
   "cell_type": "code",
   "execution_count": 31,
   "id": "magnetic-shame",
   "metadata": {},
   "outputs": [
    {
     "name": "stdout",
     "output_type": "stream",
     "text": [
      "True\n",
      "False\n"
     ]
    }
   ],
   "source": [
    "txt = \"   \"\n",
    "\n",
    "x = txt.isspace()\n",
    "\n",
    "print(x)\n",
    "\n",
    "# x=True döner\n",
    "\n",
    "txt = \"   s   \"\n",
    "\n",
    "x = txt.isspace()\n",
    "\n",
    "print(x)\n",
    "# x=false döner"
   ]
  },
  {
   "cell_type": "markdown",
   "id": "smart-coalition",
   "metadata": {},
   "source": [
    "### isupper()"
   ]
  },
  {
   "cell_type": "markdown",
   "id": "alternative-nutrition",
   "metadata": {},
   "source": [
    "Dizedeki tüm büyük / küçük harfli karakterler büyükse ve en az bir büyük / küçük harf varsa true, aksi takdirde false döndürür."
   ]
  },
  {
   "cell_type": "code",
   "execution_count": 34,
   "id": "expanded-academy",
   "metadata": {},
   "outputs": [
    {
     "name": "stdout",
     "output_type": "stream",
     "text": [
      "False\n",
      "False\n",
      "True\n"
     ]
    }
   ],
   "source": [
    "a = \"Merhaba Dünya\"\n",
    "b = \"Merhaba 123\"\n",
    "c = \"BENİM ADIM CEMİL\"\n",
    "\n",
    "print(a.isupper())\n",
    "print(b.isupper())\n",
    "print(c.isupper())\n",
    "\n"
   ]
  },
  {
   "cell_type": "markdown",
   "id": "printable-duncan",
   "metadata": {},
   "source": [
    "### lower()"
   ]
  },
  {
   "cell_type": "markdown",
   "id": "civic-compromise",
   "metadata": {},
   "source": [
    "Küçük harfe dönüştürülmüş dizenin bir kopyasını döndürür."
   ]
  },
  {
   "cell_type": "code",
   "execution_count": 2,
   "id": "upper-nickname",
   "metadata": {},
   "outputs": [
    {
     "name": "stdout",
     "output_type": "stream",
     "text": [
      "merhaba dostlar\n",
      "Baki̇ Olan Bu Kubbede Bir Hoş Sada İMiş\n"
     ]
    }
   ],
   "source": [
    "txt = \"mERHABA dOSTlar\"\n",
    "\n",
    "x = txt.lower()\n",
    "\n",
    "print(x)\n",
    "\n",
    "# Şimdi de büyük küçük harf girilmiş bir metnin sadece ilk harfini büyük, diğerlerini küçük yapalım.\n",
    "\n",
    "cumle = \"BaKİ Olan bU KUBBEDE bir HoŞ SaDa İmiş\"\n",
    "\n",
    "#önce tamamını küçük harf yapalım.\n",
    "\n",
    "cumle=cumle.lower().title()\n",
    "\n",
    "print(cumle)\n"
   ]
  },
  {
   "cell_type": "markdown",
   "id": "creative-hazard",
   "metadata": {},
   "source": [
    "### replace(old, new[,count])"
   ]
  },
  {
   "cell_type": "markdown",
   "id": "dedicated-sweet",
   "metadata": {},
   "source": [
    "String bir ifadenin içerisindeki belirli bir alt değeri başka bir alt değer ile değiştirmemizi sağlar. Tam olarak wordde, excellde ya da herhangi bir text editördeki CTRL+H komutunun yaptığını yapar."
   ]
  },
  {
   "cell_type": "code",
   "execution_count": 38,
   "id": "revolutionary-support",
   "metadata": {},
   "outputs": [
    {
     "name": "stdout",
     "output_type": "stream",
     "text": [
      "muzları severim\n"
     ]
    }
   ],
   "source": [
    "txt = \"elmaları severim\"\n",
    "\n",
    "x = txt.replace(\"elma\", \"muz\")\n",
    "\n",
    "print(x)"
   ]
  },
  {
   "cell_type": "code",
   "execution_count": 43,
   "id": "warming-simpson",
   "metadata": {},
   "outputs": [
    {
     "name": "stdout",
     "output_type": "stream",
     "text": [
      "iki berber bir berbere gel beraber bir berber dükkanı açalım demiş.\n"
     ]
    }
   ],
   "source": [
    "txt = \"bir berber bir berbere gel beraber bir berber dükkanı açalım demiş.\"\n",
    "\n",
    "x = txt.replace(\"bir\", \"iki\", 1)\n",
    "\n",
    "print(x)"
   ]
  },
  {
   "cell_type": "markdown",
   "id": "external-judges",
   "metadata": {},
   "source": [
    "### split([sep [,maxsplit]])"
   ]
  },
  {
   "cell_type": "markdown",
   "id": "considerable-innocent",
   "metadata": {},
   "source": [
    "Bir dizeyi, her kelimenin bir liste öğesi olduğu bir listeye böler. Sonuç liste olarak döner."
   ]
  },
  {
   "cell_type": "code",
   "execution_count": 45,
   "id": "indirect-spider",
   "metadata": {},
   "outputs": [
    {
     "name": "stdout",
     "output_type": "stream",
     "text": [
      "['Bir', 'zamanlar', 'buraları', 'dutluktu']\n"
     ]
    }
   ],
   "source": [
    "txt = \"Bir zamanlar buraları dutluktu\"\n",
    "\n",
    "x = txt.split()\n",
    "\n",
    "print(x)"
   ]
  },
  {
   "cell_type": "code",
   "execution_count": 46,
   "id": "conceptual-forty",
   "metadata": {},
   "outputs": [
    {
     "name": "stdout",
     "output_type": "stream",
     "text": [
      "['Merhaba', 'benim adım Uğur', 'ben 37 yaşındayım']\n"
     ]
    }
   ],
   "source": [
    "txt = \"Merhaba, benim adım Uğur, ben 37 yaşındayım\"\n",
    "\n",
    "x = txt.split(\", \")\n",
    "\n",
    "print(x)"
   ]
  },
  {
   "cell_type": "code",
   "execution_count": 47,
   "id": "fifteen-constitution",
   "metadata": {},
   "outputs": [
    {
     "name": "stdout",
     "output_type": "stream",
     "text": [
      "['elma', 'muz#kiraz#portakal']\n"
     ]
    }
   ],
   "source": [
    "txt = \"elma#muz#kiraz#portakal\"\n",
    "\n",
    "# maxsplit'i tanımlarsak eğer en fazla maxsplit sayısı kadar elemana bölecektir\n",
    "x = txt.split(\"#\", 1)\n",
    "\n",
    "print(x)"
   ]
  },
  {
   "cell_type": "markdown",
   "id": "centered-ottawa",
   "metadata": {},
   "source": [
    "### strip([chars])"
   ]
  },
  {
   "cell_type": "markdown",
   "id": "dominant-plaza",
   "metadata": {},
   "source": [
    "Dizenin başındaki ve sonundaki boşlukları kaldırır. [chars] parametreleri ile kullanılırsa, girilen karakterleri string ifadeden çıkarır."
   ]
  },
  {
   "cell_type": "code",
   "execution_count": 51,
   "id": "exciting-corpus",
   "metadata": {},
   "outputs": [
    {
     "name": "stdout",
     "output_type": "stream",
     "text": [
      "Mütün meyveler içinde elma en sevdiğimdir\n"
     ]
    }
   ],
   "source": [
    "txt = \"     elma     \"\n",
    "\n",
    "x = txt.strip()\n",
    "\n",
    "print(\"Mütün meyveler içinde\", x, \"en sevdiğimdir\")"
   ]
  },
  {
   "cell_type": "code",
   "execution_count": 53,
   "id": "parental-uganda",
   "metadata": {},
   "outputs": [
    {
     "name": "stdout",
     "output_type": "stream",
     "text": [
      "muz\n"
     ]
    }
   ],
   "source": [
    "txt = \",,,,,rrttgg.....muz....rrr\"\n",
    "\n",
    "x = txt.strip(\",.grt\")\n",
    "\n",
    "print(x)"
   ]
  },
  {
   "cell_type": "markdown",
   "id": "heard-italian",
   "metadata": {},
   "source": [
    "### title()"
   ]
  },
  {
   "cell_type": "markdown",
   "id": "handled-encoding",
   "metadata": {},
   "source": [
    "Dizenin başlık tabanlı bir versiyonunu döndür: kelimeler büyük harfli karakterlerle başlar, kalan tüm büyük / küçük harfli karakterler küçüktür."
   ]
  },
  {
   "cell_type": "code",
   "execution_count": 54,
   "id": "regulated-court",
   "metadata": {},
   "outputs": [
    {
     "data": {
      "text/plain": [
       "'Beni̇m Adim Cemi̇l'"
      ]
     },
     "execution_count": 54,
     "metadata": {},
     "output_type": "execute_result"
    }
   ],
   "source": [
    "c = \"BENİM ADIM CEMİL\"\n",
    "\n",
    "c.title()"
   ]
  },
  {
   "cell_type": "markdown",
   "id": "premier-spirituality",
   "metadata": {},
   "source": [
    "### upper()"
   ]
  },
  {
   "cell_type": "markdown",
   "id": "returning-immune",
   "metadata": {},
   "source": [
    "Dizenin büyük harfe dönüştürülmüş bir kopyasını döndürür."
   ]
  },
  {
   "cell_type": "code",
   "execution_count": 55,
   "id": "complete-contributor",
   "metadata": {},
   "outputs": [
    {
     "name": "stdout",
     "output_type": "stream",
     "text": [
      "MERHABA DOSTLAR\n"
     ]
    }
   ],
   "source": [
    "txt = \"merhaba dostlar\"\n",
    "\n",
    "x = txt.upper()\n",
    "\n",
    "print(x)"
   ]
  },
  {
   "cell_type": "markdown",
   "id": "chicken-puzzle",
   "metadata": {},
   "source": [
    "## Numerik Fonksiyonlar"
   ]
  },
  {
   "cell_type": "markdown",
   "id": "unlikely-alpha",
   "metadata": {},
   "source": [
    "Python'da numerik fonksiyonları kullanabilmemiz için math kütüphanesini eklememiz gerekir. Bu işlem \"modüller\" konusunda detaylı anlatılacaktır. Fakat burada numerik fonksiyonları \"import math\" ile elde edeceğiz.\n",
    "\n",
    "\n",
    "Bunun gibi işlemleri yapmak için bir çok fonksiyon bulunmaktadır. Bu fonksiyonlara https://docs.python.org/3/library/math.html sayfasından erişebilirsiniz. Şimdi sizinle bu fonksiyonlardan bazılarını inceleyelim."
   ]
  },
  {
   "cell_type": "markdown",
   "id": "wrong-formula",
   "metadata": {},
   "source": [
    "### math.ceil()"
   ]
  },
  {
   "cell_type": "markdown",
   "id": "usual-roller",
   "metadata": {},
   "source": [
    "Ondalıklı sayıyı tavana yuvarlar."
   ]
  },
  {
   "cell_type": "code",
   "execution_count": 1,
   "id": "vital-attention",
   "metadata": {},
   "outputs": [
    {
     "data": {
      "text/plain": [
       "4"
      ]
     },
     "execution_count": 1,
     "metadata": {},
     "output_type": "execute_result"
    }
   ],
   "source": [
    "import math\n",
    "math.ceil(3.154660)"
   ]
  },
  {
   "cell_type": "markdown",
   "id": "affiliated-astrology",
   "metadata": {},
   "source": [
    "### math.floor(x)"
   ]
  },
  {
   "cell_type": "markdown",
   "id": "eastern-fellowship",
   "metadata": {},
   "source": [
    "Ondalıklı sayıyı tabana yuvarlar."
   ]
  },
  {
   "cell_type": "code",
   "execution_count": 61,
   "id": "compatible-operator",
   "metadata": {},
   "outputs": [
    {
     "data": {
      "text/plain": [
       "3"
      ]
     },
     "execution_count": 61,
     "metadata": {},
     "output_type": "execute_result"
    }
   ],
   "source": [
    "import math\n",
    "math.floor(3.154660)"
   ]
  },
  {
   "cell_type": "markdown",
   "id": "average-physiology",
   "metadata": {},
   "source": [
    "### math.factorial(x)"
   ]
  },
  {
   "cell_type": "markdown",
   "id": "fleet-postcard",
   "metadata": {},
   "source": [
    "Bir tam sayının faktöriyelini alır."
   ]
  },
  {
   "cell_type": "code",
   "execution_count": 63,
   "id": "demonstrated-exclusion",
   "metadata": {},
   "outputs": [
    {
     "data": {
      "text/plain": [
       "120"
      ]
     },
     "execution_count": 63,
     "metadata": {},
     "output_type": "execute_result"
    }
   ],
   "source": [
    "math.factorial(5)"
   ]
  },
  {
   "cell_type": "markdown",
   "id": "typical-eleven",
   "metadata": {},
   "source": [
    "### math.comb(n, k)"
   ]
  },
  {
   "cell_type": "markdown",
   "id": "informational-bride",
   "metadata": {},
   "source": [
    "Verilen iki sayının kombinasyonunu alır."
   ]
  },
  {
   "cell_type": "code",
   "execution_count": 68,
   "id": "hired-gender",
   "metadata": {},
   "outputs": [
    {
     "data": {
      "text/plain": [
       "10"
      ]
     },
     "execution_count": 68,
     "metadata": {},
     "output_type": "execute_result"
    }
   ],
   "source": [
    "math.comb(5,3)"
   ]
  },
  {
   "cell_type": "markdown",
   "id": "turned-affiliate",
   "metadata": {},
   "source": [
    "### math.perm(n, k=None)"
   ]
  },
  {
   "cell_type": "markdown",
   "id": "known-appreciation",
   "metadata": {},
   "source": [
    "Verilen iki sayının permütasyonunu alır"
   ]
  },
  {
   "cell_type": "code",
   "execution_count": 69,
   "id": "renewable-reducing",
   "metadata": {},
   "outputs": [
    {
     "data": {
      "text/plain": [
       "60"
      ]
     },
     "execution_count": 69,
     "metadata": {},
     "output_type": "execute_result"
    }
   ],
   "source": [
    "math.perm(5,3)"
   ]
  },
  {
   "cell_type": "markdown",
   "id": "ultimate-vampire",
   "metadata": {},
   "source": [
    "### math.gcd(*integers)"
   ]
  },
  {
   "cell_type": "markdown",
   "id": "distributed-sheep",
   "metadata": {},
   "source": [
    "Verilen iki tamsayının en büyük ortak bölenini bulur."
   ]
  },
  {
   "cell_type": "code",
   "execution_count": 75,
   "id": "studied-extreme",
   "metadata": {},
   "outputs": [
    {
     "data": {
      "text/plain": [
       "10"
      ]
     },
     "execution_count": 75,
     "metadata": {},
     "output_type": "execute_result"
    }
   ],
   "source": [
    "math.gcd(20,10)"
   ]
  },
  {
   "cell_type": "markdown",
   "id": "excited-proof",
   "metadata": {},
   "source": [
    "### math.exp(x)"
   ]
  },
  {
   "cell_type": "markdown",
   "id": "rising-asbestos",
   "metadata": {},
   "source": [
    "doğal sayı olan e sayısının üstel fonksiyonudur. "
   ]
  },
  {
   "cell_type": "code",
   "execution_count": 76,
   "id": "whole-gnome",
   "metadata": {},
   "outputs": [
    {
     "data": {
      "text/plain": [
       "7.38905609893065"
      ]
     },
     "execution_count": 76,
     "metadata": {},
     "output_type": "execute_result"
    }
   ],
   "source": [
    "math.exp(2)"
   ]
  },
  {
   "cell_type": "markdown",
   "id": "optional-transaction",
   "metadata": {},
   "source": [
    "### math.log(x[, base])"
   ]
  },
  {
   "cell_type": "markdown",
   "id": "adolescent-viking",
   "metadata": {},
   "source": [
    "logaritma almada kullanılır."
   ]
  },
  {
   "cell_type": "code",
   "execution_count": 78,
   "id": "biological-outside",
   "metadata": {},
   "outputs": [
    {
     "data": {
      "text/plain": [
       "2.0"
      ]
     },
     "execution_count": 78,
     "metadata": {},
     "output_type": "execute_result"
    }
   ],
   "source": [
    "math.log(100,10)"
   ]
  },
  {
   "cell_type": "markdown",
   "id": "noticed-startup",
   "metadata": {},
   "source": [
    "### math.pi"
   ]
  },
  {
   "cell_type": "markdown",
   "id": "polyphonic-rough",
   "metadata": {},
   "source": [
    "Pi sayısıdır. Sabittir."
   ]
  },
  {
   "cell_type": "code",
   "execution_count": 81,
   "id": "upset-challenge",
   "metadata": {},
   "outputs": [
    {
     "data": {
      "text/plain": [
       "3.141592653589793"
      ]
     },
     "execution_count": 81,
     "metadata": {},
     "output_type": "execute_result"
    }
   ],
   "source": [
    "math.pi"
   ]
  },
  {
   "cell_type": "markdown",
   "id": "presidential-tissue",
   "metadata": {},
   "source": [
    "### math.e"
   ]
  },
  {
   "cell_type": "markdown",
   "id": "fresh-roulette",
   "metadata": {},
   "source": [
    "e sayısıdır. Sabittir"
   ]
  },
  {
   "cell_type": "code",
   "execution_count": 84,
   "id": "optional-grass",
   "metadata": {},
   "outputs": [
    {
     "data": {
      "text/plain": [
       "2.718281828459045"
      ]
     },
     "execution_count": 84,
     "metadata": {},
     "output_type": "execute_result"
    }
   ],
   "source": [
    "math.e"
   ]
  },
  {
   "cell_type": "markdown",
   "id": "understanding-bottle",
   "metadata": {},
   "source": [
    "### math.cos(x)"
   ]
  },
  {
   "cell_type": "markdown",
   "id": "introductory-eclipse",
   "metadata": {},
   "source": [
    "cos(x) i verir. x burada radyan cinsindendir."
   ]
  },
  {
   "cell_type": "code",
   "execution_count": 83,
   "id": "spoken-decision",
   "metadata": {},
   "outputs": [
    {
     "data": {
      "text/plain": [
       "-1.0"
      ]
     },
     "execution_count": 83,
     "metadata": {},
     "output_type": "execute_result"
    }
   ],
   "source": [
    "x=math.pi\n",
    "\n",
    "math.cos(x)"
   ]
  },
  {
   "cell_type": "markdown",
   "id": "fitting-municipality",
   "metadata": {},
   "source": [
    "### math.sin(x)"
   ]
  },
  {
   "cell_type": "markdown",
   "id": "better-norwegian",
   "metadata": {},
   "source": [
    "sin(x) i verir. x burada radyan cinsindendir."
   ]
  },
  {
   "cell_type": "code",
   "execution_count": 87,
   "id": "representative-couple",
   "metadata": {},
   "outputs": [
    {
     "data": {
      "text/plain": [
       "1.0"
      ]
     },
     "execution_count": 87,
     "metadata": {},
     "output_type": "execute_result"
    }
   ],
   "source": [
    "x=math.pi/2\n",
    "\n",
    "math.sin(x)"
   ]
  },
  {
   "cell_type": "code",
   "execution_count": null,
   "id": "contemporary-commerce",
   "metadata": {},
   "outputs": [],
   "source": []
  }
 ],
 "metadata": {
  "kernelspec": {
   "display_name": "Python 3",
   "language": "python",
   "name": "python3"
  },
  "language_info": {
   "codemirror_mode": {
    "name": "ipython",
    "version": 3
   },
   "file_extension": ".py",
   "mimetype": "text/x-python",
   "name": "python",
   "nbconvert_exporter": "python",
   "pygments_lexer": "ipython3",
   "version": "3.8.5"
  }
 },
 "nbformat": 4,
 "nbformat_minor": 5
}
