{
 "cells": [
  {
   "cell_type": "markdown",
   "id": "according-portfolio",
   "metadata": {},
   "source": [
    "# Aylık yol masrafı hesaplama uygulaması"
   ]
  },
  {
   "cell_type": "markdown",
   "id": "former-belfast",
   "metadata": {},
   "source": [
    "Yazacağımız bu program ile bir ayda yapılan yol masrafını python ile hesaplatacağız. Kullanıcının hafta içi her gün işe gittiğini, cumartesi ve pazar günleri de gezmeye gittiğini varsayalım. Programa kullanıcı tek binişlik otobüs ücreti girsin. Bu yolla aylık yol masrafını hesaplatalım."
   ]
  },
  {
   "cell_type": "code",
   "execution_count": 7,
   "id": "steady-thumb",
   "metadata": {},
   "outputs": [
    {
     "name": "stdout",
     "output_type": "stream",
     "text": [
      "\n",
      "#########################################################################################\n",
      "Bu program, tek binişlik otobüs ücretini kullanıcıdan alarak aylık yol masrafını hesaplar.\n",
      "#########################################################################################\n",
      "\n",
      "Lütfen otobüs ücretini giriniz.2.1\n",
      "Günlük Masraf: 4.2 TL'dir\n",
      "Aylık Masraf: 126.0 TL'dir\n"
     ]
    }
   ],
   "source": [
    "# Standart olarak bir ayda 30 gün vardır diye kabul edebiliriz.\n",
    "# Öncelikle kullanıcıdan tek binişlik bilet parası isteyelim. Onun öncesinde de kullanıcıyı programın \n",
    "# ne yaptığı ile ilgili bilgilendirelim.\n",
    "\n",
    "print(\"\"\"\n",
    "#########################################################################################\n",
    "Bu program, tek binişlik otobüs ücretini kullanıcıdan alarak aylık yol masrafını hesaplar.\n",
    "#########################################################################################\n",
    "\"\"\")\n",
    "\n",
    "tek_binislik_ucret=float(input(\"Lütfen otobüs ücretini giriniz.\"))\n",
    "gunluk_masraf=tek_binislik_ucret*2\n",
    "aylık_masraf=gunluk_masraf*30\n",
    "print(\"Günlük Masraf: {} TL'dir.\".format(gunluk_masraf))\n",
    "print(\"Aylık Masraf: {} TL'dir.\".format(aylık_masraf))\n",
    "\n",
    "\n",
    "\n"
   ]
  },
  {
   "cell_type": "code",
   "execution_count": null,
   "id": "undefined-force",
   "metadata": {},
   "outputs": [],
   "source": []
  }
 ],
 "metadata": {
  "kernelspec": {
   "display_name": "Python 3",
   "language": "python",
   "name": "python3"
  },
  "language_info": {
   "codemirror_mode": {
    "name": "ipython",
    "version": 3
   },
   "file_extension": ".py",
   "mimetype": "text/x-python",
   "name": "python",
   "nbconvert_exporter": "python",
   "pygments_lexer": "ipython3",
   "version": "3.8.5"
  }
 },
 "nbformat": 4,
 "nbformat_minor": 5
}
