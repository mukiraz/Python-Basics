{
 "cells": [
  {
   "cell_type": "markdown",
   "id": "narrative-canada",
   "metadata": {},
   "source": [
    "# Basit bir hesap makinesi uygulaması"
   ]
  },
  {
   "cell_type": "markdown",
   "id": "ecological-collar",
   "metadata": {},
   "source": [
    "Görsel bir hesap makinesi yerine kullanıcıya verilen iki sayıya ait toplama, çıkarma, çarpma, bölme işlemlerini python ile hesaplatabiliriz."
   ]
  },
  {
   "cell_type": "code",
   "execution_count": 4,
   "id": "stone-guess",
   "metadata": {},
   "outputs": [
    {
     "name": "stdout",
     "output_type": "stream",
     "text": [
      "\n",
      "Bu program, girdiğiniz iki sayıyla ilgili yapılan işlemleri ekrana yazdırır.\n",
      "\n",
      "\n",
      "Birinci Sayıyı Giriniz:1\n",
      "İkinci Sayıyı Giriniz:2\n",
      "\n",
      "İki Sayının Toplamı:1.0 + 2.0 = 3.0 \n",
      "İki Sayının Çarpımı:1.0 * 2.0 = 2.0\n",
      "İki Sayının Bölümü:1.0 / 2.0 = 0.5\n",
      "İki Sayının Çıkartılması:1.0 - 2.0 = -1.0\n",
      "\n"
     ]
    }
   ],
   "source": [
    "print(\"\"\"\n",
    "Bu program, girdiğiniz iki sayıyla ilgili yapılan işlemleri ekrana yazdırır.\n",
    "\n",
    "\"\"\")\n",
    "\n",
    "birinci_sayi=float(input(\"Birinci Sayıyı Giriniz:\"))\n",
    "ikinci_sayi=float(input(\"İkinci Sayıyı Giriniz:\"))\n",
    "\n",
    "summed=birinci_sayi+ikinci_sayi\n",
    "multiplied=birinci_sayi*ikinci_sayi\n",
    "devided=birinci_sayi/ikinci_sayi\n",
    "subtracted=birinci_sayi-ikinci_sayi\n",
    "\n",
    "print(\"\"\"\n",
    "İki Sayının Toplamı:{0} + {1} = {2} \n",
    "İki Sayının Çarpımı:{0} * {1} = {3}\n",
    "İki Sayının Bölümü:{0} / {1} = {4}\n",
    "İki Sayının Çıkartılması:{0} - {1} = {5}\n",
    "\"\"\".format(birinci_sayi,ikinci_sayi,summed,multiplied,devided,subtracted))"
   ]
  },
  {
   "cell_type": "code",
   "execution_count": null,
   "id": "extreme-florida",
   "metadata": {},
   "outputs": [],
   "source": []
  }
 ],
 "metadata": {
  "kernelspec": {
   "display_name": "Python 3",
   "language": "python",
   "name": "python3"
  },
  "language_info": {
   "codemirror_mode": {
    "name": "ipython",
    "version": 3
   },
   "file_extension": ".py",
   "mimetype": "text/x-python",
   "name": "python",
   "nbconvert_exporter": "python",
   "pygments_lexer": "ipython3",
   "version": "3.8.5"
  }
 },
 "nbformat": 4,
 "nbformat_minor": 5
}
