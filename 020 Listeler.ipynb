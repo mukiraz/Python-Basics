{
 "cells": [
  {
   "cell_type": "markdown",
   "id": "steady-business",
   "metadata": {},
   "source": [
    "# Listeler"
   ]
  },
  {
   "cell_type": "markdown",
   "id": "treated-combat",
   "metadata": {},
   "source": [
    "Liste kavramını daha önce görmüştük. Şimdi ise liste kavramını daha detaylı inceleyelim. Listeler yapıları gereği stringlere  benzer. Kullanım alanı çok geniştir.\n",
    "\n",
    "Listeler, aynı stringler gibi parçalanabilirler, indexlenebilirler. Stringlere ait metotlar olduğu gibi (capitalize(), index(), find()), listelere ait metotlar da bulunmaktadır. \n",
    "\n",
    "Fakat stringlerin n'inci elemanını değiştiremiyorken, listelerin n inci elemanını değiştirebilirz.\n",
    "\n",
    "Bir listede her veritipinden elemanı saklayabiliriz. Bu anlamda sıralı bir diziye benzer."
   ]
  },
  {
   "cell_type": "markdown",
   "id": "selective-entity",
   "metadata": {},
   "source": [
    "## Liste Oluşturma"
   ]
  },
  {
   "cell_type": "code",
   "execution_count": 1,
   "id": "lonely-boost",
   "metadata": {},
   "outputs": [
    {
     "data": {
      "text/plain": [
       "[4, 5, 65, 6.25, 'kalem', 3.14, 5.324]"
      ]
     },
     "execution_count": 1,
     "metadata": {},
     "output_type": "execute_result"
    }
   ],
   "source": [
    "# liste değişkeni. Değişik veri tiplerinden değerleri saklayabiliyoruz.\n",
    "liste =  [4,5,65,6.25,\"kalem\",3.14,5.324]\n",
    "liste"
   ]
  },
  {
   "cell_type": "code",
   "execution_count": 2,
   "id": "sixth-robert",
   "metadata": {},
   "outputs": [
    {
     "data": {
      "text/plain": [
       "[1, 2, 3, 4, 5, 6, 7]"
      ]
     },
     "execution_count": 2,
     "metadata": {},
     "output_type": "execute_result"
    }
   ],
   "source": [
    "liste2 = [1,2,3,4,5,6,7]\n",
    "liste2"
   ]
  },
  {
   "cell_type": "code",
   "execution_count": 3,
   "id": "found-delta",
   "metadata": {},
   "outputs": [
    {
     "data": {
      "text/plain": [
       "[]"
      ]
     },
     "execution_count": 3,
     "metadata": {},
     "output_type": "execute_result"
    }
   ],
   "source": [
    "# Boş liste\n",
    "bos_liste = []\n",
    "bos_liste"
   ]
  },
  {
   "cell_type": "code",
   "execution_count": 4,
   "id": "inner-monkey",
   "metadata": {},
   "outputs": [
    {
     "data": {
      "text/plain": [
       "[]"
      ]
     },
     "execution_count": 4,
     "metadata": {},
     "output_type": "execute_result"
    }
   ],
   "source": [
    "# Boş liste . list() fonksiyonuyla da oluşturulabilir.\n",
    "bos_liste = list()\n",
    "bos_liste"
   ]
  },
  {
   "cell_type": "code",
   "execution_count": 9,
   "id": "hybrid-title",
   "metadata": {},
   "outputs": [
    {
     "data": {
      "text/plain": [
       "['M', 'e', 'r', 'h', 'a', 'b', 'a']"
      ]
     },
     "execution_count": 9,
     "metadata": {},
     "output_type": "execute_result"
    }
   ],
   "source": [
    "# Bir string list() fonksiyonu yardımıyla listeye dönüştürülebilir.\n",
    "s =  \"Merhaba\"\n",
    "lst =  list(s)\n",
    "lst"
   ]
  },
  {
   "cell_type": "code",
   "execution_count": 10,
   "id": "specified-artwork",
   "metadata": {},
   "outputs": [
    {
     "ename": "TypeError",
     "evalue": "'int' object is not iterable",
     "output_type": "error",
     "traceback": [
      "\u001b[1;31m---------------------------------------------------------------------------\u001b[0m",
      "\u001b[1;31mTypeError\u001b[0m                                 Traceback (most recent call last)",
      "\u001b[1;32m<ipython-input-10-5f5ca40b339d>\u001b[0m in \u001b[0;36m<module>\u001b[1;34m\u001b[0m\n\u001b[0;32m      1\u001b[0m \u001b[1;31m# Fakat sayı tipindeki değerler listeye çevrilemez.\u001b[0m\u001b[1;33m\u001b[0m\u001b[1;33m\u001b[0m\u001b[1;33m\u001b[0m\u001b[0m\n\u001b[0;32m      2\u001b[0m \u001b[0ms\u001b[0m \u001b[1;33m=\u001b[0m  \u001b[1;36m12364\u001b[0m\u001b[1;33m\u001b[0m\u001b[1;33m\u001b[0m\u001b[0m\n\u001b[1;32m----> 3\u001b[1;33m \u001b[0mlst\u001b[0m \u001b[1;33m=\u001b[0m  \u001b[0mlist\u001b[0m\u001b[1;33m(\u001b[0m\u001b[0ms\u001b[0m\u001b[1;33m)\u001b[0m\u001b[1;33m\u001b[0m\u001b[1;33m\u001b[0m\u001b[0m\n\u001b[0m\u001b[0;32m      4\u001b[0m \u001b[0mlst\u001b[0m\u001b[1;33m\u001b[0m\u001b[1;33m\u001b[0m\u001b[0m\n",
      "\u001b[1;31mTypeError\u001b[0m: 'int' object is not iterable"
     ]
    }
   ],
   "source": [
    "# Fakat sayı tipindeki değerler listeye çevrilemez. Aşağıdaki kod hata verecektir.\n",
    "s =  12364\n",
    "lst =  list(s)\n",
    "lst"
   ]
  },
  {
   "cell_type": "markdown",
   "id": "modern-vanilla",
   "metadata": {},
   "source": [
    "## Listeleri Indeksleme ve Parçalama"
   ]
  },
  {
   "cell_type": "markdown",
   "id": "genuine-bargain",
   "metadata": {},
   "source": [
    "İndeksleme ve parçalama işlemlerini stringler konusunda görmüştük. Listelerde de indeksleme ve praçalama işlemleri stringler ile aynıdır."
   ]
  },
  {
   "cell_type": "code",
   "execution_count": 11,
   "id": "united-celebrity",
   "metadata": {},
   "outputs": [],
   "source": [
    "#liste değişkenimizi yeniden oluşturalım.\n",
    "liste=[1,2,3,4,5,6,7,8,9]"
   ]
  },
  {
   "cell_type": "code",
   "execution_count": 12,
   "id": "muslim-rental",
   "metadata": {},
   "outputs": [
    {
     "data": {
      "text/plain": [
       "1"
      ]
     },
     "execution_count": 12,
     "metadata": {},
     "output_type": "execute_result"
    }
   ],
   "source": [
    "# Listenin 0'ıncı elemanı\n",
    "liste[0]"
   ]
  },
  {
   "cell_type": "code",
   "execution_count": 13,
   "id": "tutorial-glenn",
   "metadata": {},
   "outputs": [
    {
     "data": {
      "text/plain": [
       "5"
      ]
     },
     "execution_count": 13,
     "metadata": {},
     "output_type": "execute_result"
    }
   ],
   "source": [
    "# Listenin 4'üncü elemanı\n",
    "liste[4]"
   ]
  },
  {
   "cell_type": "code",
   "execution_count": 14,
   "id": "elegant-bailey",
   "metadata": {},
   "outputs": [
    {
     "data": {
      "text/plain": [
       "9"
      ]
     },
     "execution_count": 14,
     "metadata": {},
     "output_type": "execute_result"
    }
   ],
   "source": [
    "# Listenin sonuncu elelanı\n",
    "liste[-1]"
   ]
  },
  {
   "cell_type": "code",
   "execution_count": 15,
   "id": "demographic-watson",
   "metadata": {},
   "outputs": [
    {
     "data": {
      "text/plain": [
       "9"
      ]
     },
     "execution_count": 15,
     "metadata": {},
     "output_type": "execute_result"
    }
   ],
   "source": [
    "# Listenin sonuncu elelanı\n",
    "liste[len(liste)-1]"
   ]
  },
  {
   "cell_type": "code",
   "execution_count": 16,
   "id": "buried-spoke",
   "metadata": {},
   "outputs": [
    {
     "data": {
      "text/plain": [
       "[1, 2, 3, 4, 5]"
      ]
     },
     "execution_count": 16,
     "metadata": {},
     "output_type": "execute_result"
    }
   ],
   "source": [
    "# Baştan 5. indekse kadar (dahil değil)\n",
    "liste[:5]"
   ]
  },
  {
   "cell_type": "code",
   "execution_count": 17,
   "id": "administrative-exemption",
   "metadata": {},
   "outputs": [
    {
     "data": {
      "text/plain": [
       "[3, 4]"
      ]
     },
     "execution_count": 17,
     "metadata": {},
     "output_type": "execute_result"
    }
   ],
   "source": [
    "# 2.indeksten 4.indekse kadar\n",
    "liste[2:4]"
   ]
  },
  {
   "cell_type": "code",
   "execution_count": 18,
   "id": "worth-clinic",
   "metadata": {},
   "outputs": [
    {
     "data": {
      "text/plain": [
       "[6, 7, 8, 9]"
      ]
     },
     "execution_count": 18,
     "metadata": {},
     "output_type": "execute_result"
    }
   ],
   "source": [
    "#5'inci elemanıdan itibaren alır\n",
    "liste[5:]"
   ]
  },
  {
   "cell_type": "code",
   "execution_count": 19,
   "id": "fancy-character",
   "metadata": {},
   "outputs": [
    {
     "data": {
      "text/plain": [
       "[1, 3, 5, 7, 9]"
      ]
     },
     "execution_count": 19,
     "metadata": {},
     "output_type": "execute_result"
    }
   ],
   "source": [
    "#liste elemanlarını 2'şer atlayarak alır\n",
    "liste[::2]"
   ]
  },
  {
   "cell_type": "code",
   "execution_count": 21,
   "id": "prospective-success",
   "metadata": {},
   "outputs": [
    {
     "data": {
      "text/plain": [
       "[9, 8, 7, 6, 5, 4, 3, 2, 1]"
      ]
     },
     "execution_count": 21,
     "metadata": {},
     "output_type": "execute_result"
    }
   ],
   "source": [
    "# listeyi ters çevirme\n",
    "liste[::-1]"
   ]
  },
  {
   "cell_type": "markdown",
   "id": "controversial-representative",
   "metadata": {},
   "source": [
    "### İç içe Listeler\n",
    "\n",
    "Bir listenin içinde başka bir liste bulundurmak mümkündür. Bunlara Pythonda içiçe listeler denmektedir. Bu tip bir özellik, Pythonda ağaç yapılarında veya matris yapılarında oldukça kullanışlı olmaktadır."
   ]
  },
  {
   "cell_type": "code",
   "execution_count": 22,
   "id": "catholic-yesterday",
   "metadata": {},
   "outputs": [
    {
     "data": {
      "text/plain": [
       "[[1, 2, 3], [4, 5, 6], [7, 8, 9]]"
      ]
     },
     "execution_count": 22,
     "metadata": {},
     "output_type": "execute_result"
    }
   ],
   "source": [
    "# 3 Tane liste oluşturalım.\n",
    "\n",
    "liste1 = [1,2,3]\n",
    "liste2 = [4,5,6]\n",
    "liste3 = [7,8,9]\n",
    "\n",
    "yeniliste = [liste1,liste2,liste3]\n",
    "yeniliste"
   ]
  },
  {
   "cell_type": "code",
   "execution_count": 23,
   "id": "balanced-charity",
   "metadata": {},
   "outputs": [
    {
     "data": {
      "text/plain": [
       "4"
      ]
     },
     "execution_count": 23,
     "metadata": {},
     "output_type": "execute_result"
    }
   ],
   "source": [
    "# 1.elemanın 0.elemanı\n",
    "yeniliste[1][0]"
   ]
  },
  {
   "cell_type": "code",
   "execution_count": null,
   "id": "median-officer",
   "metadata": {},
   "outputs": [],
   "source": []
  }
 ],
 "metadata": {
  "kernelspec": {
   "display_name": "Python 3",
   "language": "python",
   "name": "python3"
  },
  "language_info": {
   "codemirror_mode": {
    "name": "ipython",
    "version": 3
   },
   "file_extension": ".py",
   "mimetype": "text/x-python",
   "name": "python",
   "nbconvert_exporter": "python",
   "pygments_lexer": "ipython3",
   "version": "3.8.5"
  }
 },
 "nbformat": 4,
 "nbformat_minor": 5
}
